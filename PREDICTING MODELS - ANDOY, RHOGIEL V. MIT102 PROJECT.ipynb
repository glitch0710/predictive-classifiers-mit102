{
 "cells": [
  {
   "cell_type": "markdown",
   "id": "29b44fc9",
   "metadata": {},
   "source": [
    "# MIT102 ADBMS PROJECT PREDICTING MODELS"
   ]
  },
  {
   "cell_type": "markdown",
   "id": "8394f93d",
   "metadata": {},
   "source": [
    "**Submitted by: Rhogiel V. Andoy**\n",
    "\n",
    "\n",
    "**Submitted to: Jocelyn B. Barbosa, PhD**"
   ]
  },
  {
   "cell_type": "markdown",
   "id": "6d70180a",
   "metadata": {},
   "source": [
    "## 1. Checking and cleaning of the dataset"
   ]
  },
  {
   "cell_type": "code",
   "execution_count": 58,
   "id": "6f22d427",
   "metadata": {},
   "outputs": [],
   "source": [
    "import pandas as pd\n",
    "import numpy as np"
   ]
  },
  {
   "cell_type": "markdown",
   "id": "fb85e746",
   "metadata": {},
   "source": [
    "*Loading the Raisin Dataset*"
   ]
  },
  {
   "cell_type": "code",
   "execution_count": 59,
   "id": "c98dc148",
   "metadata": {},
   "outputs": [],
   "source": [
    "df = pd.read_csv('Raisin_Dataset.csv')"
   ]
  },
  {
   "cell_type": "code",
   "execution_count": 60,
   "id": "e1759d1a",
   "metadata": {
    "scrolled": false
   },
   "outputs": [
    {
     "data": {
      "text/html": [
       "<div>\n",
       "<style scoped>\n",
       "    .dataframe tbody tr th:only-of-type {\n",
       "        vertical-align: middle;\n",
       "    }\n",
       "\n",
       "    .dataframe tbody tr th {\n",
       "        vertical-align: top;\n",
       "    }\n",
       "\n",
       "    .dataframe thead th {\n",
       "        text-align: right;\n",
       "    }\n",
       "</style>\n",
       "<table border=\"1\" class=\"dataframe\">\n",
       "  <thead>\n",
       "    <tr style=\"text-align: right;\">\n",
       "      <th></th>\n",
       "      <th>Area</th>\n",
       "      <th>MajorAxisLength</th>\n",
       "      <th>MinorAxisLength</th>\n",
       "      <th>Eccentricity</th>\n",
       "      <th>ConvexArea</th>\n",
       "      <th>Extent</th>\n",
       "      <th>Perimeter</th>\n",
       "      <th>Class</th>\n",
       "    </tr>\n",
       "  </thead>\n",
       "  <tbody>\n",
       "    <tr>\n",
       "      <th>0</th>\n",
       "      <td>87524</td>\n",
       "      <td>442.246011</td>\n",
       "      <td>253.291155</td>\n",
       "      <td>0.819738</td>\n",
       "      <td>90546</td>\n",
       "      <td>0.758651</td>\n",
       "      <td>1184.040</td>\n",
       "      <td>Kecimen</td>\n",
       "    </tr>\n",
       "    <tr>\n",
       "      <th>1</th>\n",
       "      <td>75166</td>\n",
       "      <td>406.690687</td>\n",
       "      <td>243.032436</td>\n",
       "      <td>0.801805</td>\n",
       "      <td>78789</td>\n",
       "      <td>0.684130</td>\n",
       "      <td>1121.786</td>\n",
       "      <td>Kecimen</td>\n",
       "    </tr>\n",
       "    <tr>\n",
       "      <th>2</th>\n",
       "      <td>90856</td>\n",
       "      <td>442.267048</td>\n",
       "      <td>266.328318</td>\n",
       "      <td>0.798354</td>\n",
       "      <td>93717</td>\n",
       "      <td>0.637613</td>\n",
       "      <td>1208.575</td>\n",
       "      <td>Kecimen</td>\n",
       "    </tr>\n",
       "    <tr>\n",
       "      <th>3</th>\n",
       "      <td>45928</td>\n",
       "      <td>286.540559</td>\n",
       "      <td>208.760042</td>\n",
       "      <td>0.684989</td>\n",
       "      <td>47336</td>\n",
       "      <td>0.699599</td>\n",
       "      <td>844.162</td>\n",
       "      <td>Kecimen</td>\n",
       "    </tr>\n",
       "    <tr>\n",
       "      <th>4</th>\n",
       "      <td>79408</td>\n",
       "      <td>352.190770</td>\n",
       "      <td>290.827533</td>\n",
       "      <td>0.564011</td>\n",
       "      <td>81463</td>\n",
       "      <td>0.792772</td>\n",
       "      <td>1073.251</td>\n",
       "      <td>Kecimen</td>\n",
       "    </tr>\n",
       "  </tbody>\n",
       "</table>\n",
       "</div>"
      ],
      "text/plain": [
       "    Area  MajorAxisLength  MinorAxisLength  Eccentricity  ConvexArea  \\\n",
       "0  87524       442.246011       253.291155      0.819738       90546   \n",
       "1  75166       406.690687       243.032436      0.801805       78789   \n",
       "2  90856       442.267048       266.328318      0.798354       93717   \n",
       "3  45928       286.540559       208.760042      0.684989       47336   \n",
       "4  79408       352.190770       290.827533      0.564011       81463   \n",
       "\n",
       "     Extent  Perimeter    Class  \n",
       "0  0.758651   1184.040  Kecimen  \n",
       "1  0.684130   1121.786  Kecimen  \n",
       "2  0.637613   1208.575  Kecimen  \n",
       "3  0.699599    844.162  Kecimen  \n",
       "4  0.792772   1073.251  Kecimen  "
      ]
     },
     "execution_count": 60,
     "metadata": {},
     "output_type": "execute_result"
    }
   ],
   "source": [
    "df.head()"
   ]
  },
  {
   "cell_type": "markdown",
   "id": "54727575",
   "metadata": {},
   "source": [
    "*Checking the number of instances per class if it is balanced. Balancing a dataset makes training a model easier because it helps prevent the model from becoming biassed towards one class. In other words, the model will no longer favour the majority class just because it contains more data.*"
   ]
  },
  {
   "cell_type": "code",
   "execution_count": 61,
   "id": "8c4d48cf",
   "metadata": {},
   "outputs": [
    {
     "data": {
      "text/plain": [
       "Class\n",
       "Besni      450\n",
       "Kecimen    450\n",
       "dtype: int64"
      ]
     },
     "execution_count": 61,
     "metadata": {},
     "output_type": "execute_result"
    }
   ],
   "source": [
    "df.groupby('Class').size()"
   ]
  },
  {
   "cell_type": "markdown",
   "id": "9e2cf356",
   "metadata": {},
   "source": [
    "*Transforming the class from string to numerical values*"
   ]
  },
  {
   "cell_type": "code",
   "execution_count": 62,
   "id": "723eb082",
   "metadata": {},
   "outputs": [],
   "source": [
    "df['Class'] = df['Class'].map({'Kecimen': 0, 'Besni': 1})"
   ]
  },
  {
   "cell_type": "code",
   "execution_count": 63,
   "id": "5a7b6f08",
   "metadata": {
    "scrolled": false
   },
   "outputs": [
    {
     "data": {
      "text/html": [
       "<div>\n",
       "<style scoped>\n",
       "    .dataframe tbody tr th:only-of-type {\n",
       "        vertical-align: middle;\n",
       "    }\n",
       "\n",
       "    .dataframe tbody tr th {\n",
       "        vertical-align: top;\n",
       "    }\n",
       "\n",
       "    .dataframe thead th {\n",
       "        text-align: right;\n",
       "    }\n",
       "</style>\n",
       "<table border=\"1\" class=\"dataframe\">\n",
       "  <thead>\n",
       "    <tr style=\"text-align: right;\">\n",
       "      <th></th>\n",
       "      <th>Area</th>\n",
       "      <th>MajorAxisLength</th>\n",
       "      <th>MinorAxisLength</th>\n",
       "      <th>Eccentricity</th>\n",
       "      <th>ConvexArea</th>\n",
       "      <th>Extent</th>\n",
       "      <th>Perimeter</th>\n",
       "      <th>Class</th>\n",
       "    </tr>\n",
       "  </thead>\n",
       "  <tbody>\n",
       "    <tr>\n",
       "      <th>0</th>\n",
       "      <td>87524</td>\n",
       "      <td>442.246011</td>\n",
       "      <td>253.291155</td>\n",
       "      <td>0.819738</td>\n",
       "      <td>90546</td>\n",
       "      <td>0.758651</td>\n",
       "      <td>1184.040</td>\n",
       "      <td>0</td>\n",
       "    </tr>\n",
       "    <tr>\n",
       "      <th>1</th>\n",
       "      <td>75166</td>\n",
       "      <td>406.690687</td>\n",
       "      <td>243.032436</td>\n",
       "      <td>0.801805</td>\n",
       "      <td>78789</td>\n",
       "      <td>0.684130</td>\n",
       "      <td>1121.786</td>\n",
       "      <td>0</td>\n",
       "    </tr>\n",
       "    <tr>\n",
       "      <th>2</th>\n",
       "      <td>90856</td>\n",
       "      <td>442.267048</td>\n",
       "      <td>266.328318</td>\n",
       "      <td>0.798354</td>\n",
       "      <td>93717</td>\n",
       "      <td>0.637613</td>\n",
       "      <td>1208.575</td>\n",
       "      <td>0</td>\n",
       "    </tr>\n",
       "    <tr>\n",
       "      <th>3</th>\n",
       "      <td>45928</td>\n",
       "      <td>286.540559</td>\n",
       "      <td>208.760042</td>\n",
       "      <td>0.684989</td>\n",
       "      <td>47336</td>\n",
       "      <td>0.699599</td>\n",
       "      <td>844.162</td>\n",
       "      <td>0</td>\n",
       "    </tr>\n",
       "    <tr>\n",
       "      <th>4</th>\n",
       "      <td>79408</td>\n",
       "      <td>352.190770</td>\n",
       "      <td>290.827533</td>\n",
       "      <td>0.564011</td>\n",
       "      <td>81463</td>\n",
       "      <td>0.792772</td>\n",
       "      <td>1073.251</td>\n",
       "      <td>0</td>\n",
       "    </tr>\n",
       "    <tr>\n",
       "      <th>...</th>\n",
       "      <td>...</td>\n",
       "      <td>...</td>\n",
       "      <td>...</td>\n",
       "      <td>...</td>\n",
       "      <td>...</td>\n",
       "      <td>...</td>\n",
       "      <td>...</td>\n",
       "      <td>...</td>\n",
       "    </tr>\n",
       "    <tr>\n",
       "      <th>895</th>\n",
       "      <td>83248</td>\n",
       "      <td>430.077308</td>\n",
       "      <td>247.838695</td>\n",
       "      <td>0.817263</td>\n",
       "      <td>85839</td>\n",
       "      <td>0.668793</td>\n",
       "      <td>1129.072</td>\n",
       "      <td>1</td>\n",
       "    </tr>\n",
       "    <tr>\n",
       "      <th>896</th>\n",
       "      <td>87350</td>\n",
       "      <td>440.735698</td>\n",
       "      <td>259.293149</td>\n",
       "      <td>0.808629</td>\n",
       "      <td>90899</td>\n",
       "      <td>0.636476</td>\n",
       "      <td>1214.252</td>\n",
       "      <td>1</td>\n",
       "    </tr>\n",
       "    <tr>\n",
       "      <th>897</th>\n",
       "      <td>99657</td>\n",
       "      <td>431.706981</td>\n",
       "      <td>298.837323</td>\n",
       "      <td>0.721684</td>\n",
       "      <td>106264</td>\n",
       "      <td>0.741099</td>\n",
       "      <td>1292.828</td>\n",
       "      <td>1</td>\n",
       "    </tr>\n",
       "    <tr>\n",
       "      <th>898</th>\n",
       "      <td>93523</td>\n",
       "      <td>476.344094</td>\n",
       "      <td>254.176054</td>\n",
       "      <td>0.845739</td>\n",
       "      <td>97653</td>\n",
       "      <td>0.658798</td>\n",
       "      <td>1258.548</td>\n",
       "      <td>1</td>\n",
       "    </tr>\n",
       "    <tr>\n",
       "      <th>899</th>\n",
       "      <td>85609</td>\n",
       "      <td>512.081774</td>\n",
       "      <td>215.271976</td>\n",
       "      <td>0.907345</td>\n",
       "      <td>89197</td>\n",
       "      <td>0.632020</td>\n",
       "      <td>1272.862</td>\n",
       "      <td>1</td>\n",
       "    </tr>\n",
       "  </tbody>\n",
       "</table>\n",
       "<p>900 rows × 8 columns</p>\n",
       "</div>"
      ],
      "text/plain": [
       "      Area  MajorAxisLength  MinorAxisLength  Eccentricity  ConvexArea  \\\n",
       "0    87524       442.246011       253.291155      0.819738       90546   \n",
       "1    75166       406.690687       243.032436      0.801805       78789   \n",
       "2    90856       442.267048       266.328318      0.798354       93717   \n",
       "3    45928       286.540559       208.760042      0.684989       47336   \n",
       "4    79408       352.190770       290.827533      0.564011       81463   \n",
       "..     ...              ...              ...           ...         ...   \n",
       "895  83248       430.077308       247.838695      0.817263       85839   \n",
       "896  87350       440.735698       259.293149      0.808629       90899   \n",
       "897  99657       431.706981       298.837323      0.721684      106264   \n",
       "898  93523       476.344094       254.176054      0.845739       97653   \n",
       "899  85609       512.081774       215.271976      0.907345       89197   \n",
       "\n",
       "       Extent  Perimeter  Class  \n",
       "0    0.758651   1184.040      0  \n",
       "1    0.684130   1121.786      0  \n",
       "2    0.637613   1208.575      0  \n",
       "3    0.699599    844.162      0  \n",
       "4    0.792772   1073.251      0  \n",
       "..        ...        ...    ...  \n",
       "895  0.668793   1129.072      1  \n",
       "896  0.636476   1214.252      1  \n",
       "897  0.741099   1292.828      1  \n",
       "898  0.658798   1258.548      1  \n",
       "899  0.632020   1272.862      1  \n",
       "\n",
       "[900 rows x 8 columns]"
      ]
     },
     "execution_count": 63,
     "metadata": {},
     "output_type": "execute_result"
    }
   ],
   "source": [
    "df"
   ]
  },
  {
   "cell_type": "code",
   "execution_count": 64,
   "id": "320b5c92",
   "metadata": {},
   "outputs": [
    {
     "data": {
      "text/plain": [
       "(900, 8)"
      ]
     },
     "execution_count": 64,
     "metadata": {},
     "output_type": "execute_result"
    }
   ],
   "source": [
    "df.shape"
   ]
  },
  {
   "cell_type": "code",
   "execution_count": 65,
   "id": "59bbab3b",
   "metadata": {
    "scrolled": true
   },
   "outputs": [
    {
     "data": {
      "text/plain": [
       "Index(['Area', 'MajorAxisLength', 'MinorAxisLength', 'Eccentricity',\n",
       "       'ConvexArea', 'Extent', 'Perimeter', 'Class'],\n",
       "      dtype='object')"
      ]
     },
     "execution_count": 65,
     "metadata": {},
     "output_type": "execute_result"
    }
   ],
   "source": [
    "df.columns"
   ]
  },
  {
   "cell_type": "code",
   "execution_count": 66,
   "id": "ac7dd650",
   "metadata": {
    "scrolled": false
   },
   "outputs": [
    {
     "name": "stdout",
     "output_type": "stream",
     "text": [
      "<class 'pandas.core.frame.DataFrame'>\n",
      "RangeIndex: 900 entries, 0 to 899\n",
      "Data columns (total 8 columns):\n",
      " #   Column           Non-Null Count  Dtype  \n",
      "---  ------           --------------  -----  \n",
      " 0   Area             900 non-null    int64  \n",
      " 1   MajorAxisLength  900 non-null    float64\n",
      " 2   MinorAxisLength  900 non-null    float64\n",
      " 3   Eccentricity     900 non-null    float64\n",
      " 4   ConvexArea       900 non-null    int64  \n",
      " 5   Extent           900 non-null    float64\n",
      " 6   Perimeter        900 non-null    float64\n",
      " 7   Class            900 non-null    int64  \n",
      "dtypes: float64(5), int64(3)\n",
      "memory usage: 56.4 KB\n"
     ]
    }
   ],
   "source": [
    "df.info()"
   ]
  },
  {
   "cell_type": "code",
   "execution_count": 67,
   "id": "06b96d08",
   "metadata": {},
   "outputs": [
    {
     "data": {
      "text/plain": [
       "Area               0\n",
       "MajorAxisLength    0\n",
       "MinorAxisLength    0\n",
       "Eccentricity       0\n",
       "ConvexArea         0\n",
       "Extent             0\n",
       "Perimeter          0\n",
       "Class              0\n",
       "dtype: int64"
      ]
     },
     "execution_count": 67,
     "metadata": {},
     "output_type": "execute_result"
    }
   ],
   "source": [
    "df.isnull().sum()"
   ]
  },
  {
   "cell_type": "markdown",
   "id": "1eb550e0",
   "metadata": {},
   "source": [
    "### Separating feature and target variables and create new DataFrames each"
   ]
  },
  {
   "cell_type": "markdown",
   "id": "f0e39cbf",
   "metadata": {},
   "source": [
    "*Dividing the dataset into feature and target variables and assign into each of their own DataFrame*"
   ]
  },
  {
   "cell_type": "code",
   "execution_count": 68,
   "id": "6cb10c30",
   "metadata": {},
   "outputs": [],
   "source": [
    "x = df[['Area','MajorAxisLength','MinorAxisLength','Eccentricity','ConvexArea','Extent','Perimeter']]\n",
    "y = df['Class']"
   ]
  },
  {
   "cell_type": "markdown",
   "id": "80b5eb1a",
   "metadata": {},
   "source": [
    "*Delaring a list that will hold the classifier scores. To be used later on in the visualization or graphical representation secion*"
   ]
  },
  {
   "cell_type": "code",
   "execution_count": 69,
   "id": "6acf83d0",
   "metadata": {},
   "outputs": [],
   "source": [
    "clf_scores = []"
   ]
  },
  {
   "cell_type": "markdown",
   "id": "2578e8b1",
   "metadata": {},
   "source": [
    "### Self defined functions"
   ]
  },
  {
   "cell_type": "markdown",
   "id": "be62865a",
   "metadata": {},
   "source": [
    "*A function that will convert the raw mean of a classifier score into percentages*"
   ]
  },
  {
   "cell_type": "code",
   "execution_count": 70,
   "id": "4a027c4b",
   "metadata": {},
   "outputs": [],
   "source": [
    "def percentage(ave):\n",
    "    per = ave * 100\n",
    "    return round(per, 2)"
   ]
  },
  {
   "cell_type": "markdown",
   "id": "15ea4f59",
   "metadata": {},
   "source": [
    "*A function that will perform 10-fold cross validation*"
   ]
  },
  {
   "cell_type": "code",
   "execution_count": 71,
   "id": "bd24c033",
   "metadata": {},
   "outputs": [],
   "source": [
    "from sklearn.model_selection import cross_val_score\n",
    "def get_scores(classifier, scoring_method):\n",
    "    ave = cross_val_score(classifier, x, y, cv=10, scoring=scoring_method).mean()\n",
    "    return percentage(ave)"
   ]
  },
  {
   "cell_type": "markdown",
   "id": "d05ba84f",
   "metadata": {},
   "source": [
    "*A function that will perform cross_validate to store the accuracy scores of each individual n of each fold. To be used in the visualization section*"
   ]
  },
  {
   "cell_type": "code",
   "execution_count": 72,
   "id": "f2ad0831",
   "metadata": {},
   "outputs": [],
   "source": [
    "from sklearn.model_selection import cross_validate\n",
    "from sklearn.preprocessing import StandardScaler\n",
    "\n",
    "def get_scoreslist_accuracy(classifier, is_regression=False):\n",
    "    scoring = ['accuracy']\n",
    "    \n",
    "    if is_regression:\n",
    "        scaler = StandardScaler()\n",
    "\n",
    "        pipeline = Pipeline([('transformer', scaler), ('estimator', classifier)])\n",
    "        scores = cross_validate(pipeline, x, y, cv=10, scoring=scoring, return_train_score=True)\n",
    "    else:\n",
    "        scores = cross_validate(classifier, x, y, cv=10, scoring=scoring, return_train_score=True)\n",
    "        \n",
    "    return {'Training Accuracy Scores': scores['train_accuracy'], 'Validation Accuracy Scores': scores['test_accuracy']}"
   ]
  },
  {
   "cell_type": "markdown",
   "id": "e0609780",
   "metadata": {},
   "source": [
    "*A function that will plot the results of the get_scoreslist_accuracy function*"
   ]
  },
  {
   "cell_type": "code",
   "execution_count": 73,
   "id": "c5ce898c",
   "metadata": {},
   "outputs": [],
   "source": [
    "def plot_accuracy_result(x_label,y_label, train_data, validation_data):\n",
    "    plt.figure(figsize=(10,8))\n",
    "    labels = [\n",
    "        \"1st Fold\", \n",
    "        \"2nd Fold\", \n",
    "        \"3rd Fold\", \n",
    "        \"4th Fold\", \n",
    "        \"5th Fold\", \n",
    "        \"6th Fold\", \n",
    "        \"7th Fold\", \n",
    "        \"8th Fold\", \n",
    "        \"9th Fold\", \n",
    "        \"10th Fold\"\n",
    "    ]\n",
    "    \n",
    "    X_axis = np.arange(len(labels))\n",
    "    ax = plt.gca()\n",
    "    plt.ylim(0.40000, 1)\n",
    "    plt.bar(X_axis-0.2, train_data, 0.4, color='blue', label='Training')\n",
    "    plt.bar(X_axis+0.2, validation_data, 0.4, color='red', label='Validation')\n",
    "    # plt.set_title(\"Accuracy scores in 10 folds\")\n",
    "    plt.xticks(X_axis, labels)\n",
    "    plt.xlabel(x_label, fontsize=14)\n",
    "    plt.ylabel(y_label, fontsize=14)\n",
    "    plt.legend()\n",
    "    plt.grid(True)\n",
    "    \n",
    "    for i in ax.containers:\n",
    "        ax.bar_label(i,fontsize=5)\n",
    "    \n",
    "    plt.show()"
   ]
  },
  {
   "cell_type": "markdown",
   "id": "1fa4e6ed",
   "metadata": {},
   "source": [
    "# 2. Perform five (5) Classifiers"
   ]
  },
  {
   "cell_type": "markdown",
   "id": "047bfef7",
   "metadata": {},
   "source": [
    "### Decision Tree"
   ]
  },
  {
   "cell_type": "markdown",
   "id": "ba6fb806",
   "metadata": {},
   "source": [
    "**Perform DT Classifier and apply 10-fold cross validation**"
   ]
  },
  {
   "cell_type": "code",
   "execution_count": 74,
   "id": "4d1e18a6",
   "metadata": {},
   "outputs": [],
   "source": [
    "from sklearn.model_selection import train_test_split\n",
    "from sklearn.tree import DecisionTreeClassifier\n",
    "from sklearn import metrics\n",
    "from sklearn.metrics import recall_score, make_scorer"
   ]
  },
  {
   "cell_type": "code",
   "execution_count": 75,
   "id": "d939fccf",
   "metadata": {},
   "outputs": [],
   "source": [
    "dtree = DecisionTreeClassifier()"
   ]
  },
  {
   "cell_type": "code",
   "execution_count": 76,
   "id": "eb102326",
   "metadata": {},
   "outputs": [],
   "source": [
    "accuracy = get_scores(dtree, 'accuracy')\n",
    "recall = get_scores(dtree, 'recall')\n",
    "precision = get_scores(dtree, 'precision')\n",
    "f1 = get_scores(dtree, 'f1')\n",
    "\n",
    "specificity = make_scorer(recall_score, pos_label=0)\n",
    "specificity_score = get_scores(dtree, specificity)\n",
    "\n",
    "sensitivity = make_scorer(recall_score, pos_label=1)\n",
    "sensitivity_score = get_scores(dtree, sensitivity)"
   ]
  },
  {
   "cell_type": "code",
   "execution_count": 77,
   "id": "ebc786b0",
   "metadata": {},
   "outputs": [
    {
     "name": "stdout",
     "output_type": "stream",
     "text": [
      "[['DT', 'Accuracy', 80.89], ['DT', 'Recall', 80.89], ['DT', 'Precision', 81.18], ['DT', 'F1-Score', 80.81], ['DT', 'Specificity', 80.89], ['DT', 'Sensitivity', 80.44]]\n"
     ]
    }
   ],
   "source": [
    "clf_scores.append(['DT', 'Accuracy', accuracy])\n",
    "clf_scores.append(['DT', 'Recall', recall])\n",
    "clf_scores.append(['DT', 'Precision', precision])\n",
    "clf_scores.append(['DT', 'F1-Score', f1])\n",
    "clf_scores.append(['DT', 'Specificity', specificity_score])\n",
    "clf_scores.append(['DT', 'Sensitivity', sensitivity_score])\n",
    "print(clf_scores)"
   ]
  },
  {
   "cell_type": "markdown",
   "id": "97dacf95",
   "metadata": {},
   "source": [
    "### Random Forest"
   ]
  },
  {
   "cell_type": "markdown",
   "id": "a5417e6d",
   "metadata": {},
   "source": [
    "**Perform RF Classifier and apply 10-fold cross validation**"
   ]
  },
  {
   "cell_type": "code",
   "execution_count": 78,
   "id": "bb57b022",
   "metadata": {},
   "outputs": [],
   "source": [
    "from sklearn.ensemble import RandomForestClassifier\n",
    "\n",
    "rf = RandomForestClassifier(n_estimators=10, max_depth=5, random_state=1)"
   ]
  },
  {
   "cell_type": "code",
   "execution_count": 79,
   "id": "63088766",
   "metadata": {},
   "outputs": [],
   "source": [
    "accuracy = get_scores(rf, 'accuracy')\n",
    "recall = get_scores(rf, 'recall')\n",
    "precision = get_scores(rf, 'precision')\n",
    "f1 = get_scores(rf, 'f1')\n",
    "\n",
    "specificity = make_scorer(recall_score, pos_label=0)\n",
    "specificity_score = get_scores(rf, specificity)\n",
    "\n",
    "sensitivity = make_scorer(recall_score, pos_label=1)\n",
    "sensitivity_score = get_scores(rf, sensitivity)"
   ]
  },
  {
   "cell_type": "code",
   "execution_count": 80,
   "id": "00da862b",
   "metadata": {},
   "outputs": [
    {
     "name": "stdout",
     "output_type": "stream",
     "text": [
      "[['DT', 'Accuracy', 80.89], ['DT', 'Recall', 80.89], ['DT', 'Precision', 81.18], ['DT', 'F1-Score', 80.81], ['DT', 'Specificity', 80.89], ['DT', 'Sensitivity', 80.44], ['RF', 'Accuracy', 86.67], ['RF', 'Recall', 84.44], ['RF', 'Precision', 88.53], ['RF', 'F1-Score', 86.25], ['RF', 'Specificity', 88.89], ['RF', 'Sensitivity', 84.44]]\n"
     ]
    }
   ],
   "source": [
    "clf_scores.append(['RF', 'Accuracy', accuracy])\n",
    "clf_scores.append(['RF', 'Recall', recall])\n",
    "clf_scores.append(['RF', 'Precision', precision])\n",
    "clf_scores.append(['RF', 'F1-Score', f1])\n",
    "clf_scores.append(['RF', 'Specificity', specificity_score])\n",
    "clf_scores.append(['RF', 'Sensitivity', sensitivity_score])\n",
    "print(clf_scores)"
   ]
  },
  {
   "cell_type": "markdown",
   "id": "a7fa0c11",
   "metadata": {},
   "source": [
    "### K-nearest Neighbor (kNN)"
   ]
  },
  {
   "cell_type": "markdown",
   "id": "c14c6f30",
   "metadata": {},
   "source": [
    "**Perform KNN Classifier and apply 10-fold cross validation**"
   ]
  },
  {
   "cell_type": "code",
   "execution_count": 81,
   "id": "bbc39217",
   "metadata": {},
   "outputs": [],
   "source": [
    "from sklearn.neighbors import KNeighborsClassifier\n",
    "\n",
    "knn = KNeighborsClassifier(n_neighbors=10)"
   ]
  },
  {
   "cell_type": "code",
   "execution_count": 82,
   "id": "02b828ee",
   "metadata": {},
   "outputs": [],
   "source": [
    "accuracy = get_scores(knn, 'accuracy')\n",
    "recall = get_scores(knn, 'recall')\n",
    "precision = get_scores(knn, 'precision')\n",
    "f1 = get_scores(knn, 'f1')\n",
    "\n",
    "specificity = make_scorer(recall_score, pos_label=0)\n",
    "specificity_score = get_scores(knn, specificity)\n",
    "\n",
    "sensitivity = make_scorer(recall_score, pos_label=1)\n",
    "sensitivity_score = get_scores(knn, sensitivity)"
   ]
  },
  {
   "cell_type": "code",
   "execution_count": 83,
   "id": "41095803",
   "metadata": {},
   "outputs": [
    {
     "name": "stdout",
     "output_type": "stream",
     "text": [
      "[['DT', 'Accuracy', 80.89], ['DT', 'Recall', 80.89], ['DT', 'Precision', 81.18], ['DT', 'F1-Score', 80.81], ['DT', 'Specificity', 80.89], ['DT', 'Sensitivity', 80.44], ['RF', 'Accuracy', 86.67], ['RF', 'Recall', 84.44], ['RF', 'Precision', 88.53], ['RF', 'F1-Score', 86.25], ['RF', 'Specificity', 88.89], ['RF', 'Sensitivity', 84.44], ['KNN', 'Accuracy', 83.44], ['KNN', 'Recall', 76.0], ['KNN', 'Precision', 89.47], ['KNN', 'F1-Score', 82.07], ['KNN', 'Specificity', 90.89], ['KNN', 'Sensitivity', 76.0]]\n"
     ]
    }
   ],
   "source": [
    "clf_scores.append(['KNN', 'Accuracy', accuracy])\n",
    "clf_scores.append(['KNN', 'Recall', recall])\n",
    "clf_scores.append(['KNN', 'Precision', precision])\n",
    "clf_scores.append(['KNN', 'F1-Score', f1])\n",
    "clf_scores.append(['KNN', 'Specificity', specificity_score])\n",
    "clf_scores.append(['KNN', 'Sensitivity', sensitivity_score])\n",
    "print(clf_scores)"
   ]
  },
  {
   "cell_type": "markdown",
   "id": "2e2594f8",
   "metadata": {},
   "source": [
    "### Regularized Logistic Regression"
   ]
  },
  {
   "cell_type": "markdown",
   "id": "96ebc741",
   "metadata": {},
   "source": [
    "**Perform Regularized LR Classifier and apply 10-fold cross validation with the help of sklearn StandardScaler function to standardize the data values into a standard format**"
   ]
  },
  {
   "cell_type": "code",
   "execution_count": 84,
   "id": "287ef6fa",
   "metadata": {},
   "outputs": [],
   "source": [
    "from sklearn.linear_model import LogisticRegression\n",
    "# from sklearn.preprocessing import StandardScaler\n",
    "from sklearn.pipeline import Pipeline\n",
    "\n",
    "lr2 = LogisticRegression(C=0.01)"
   ]
  },
  {
   "cell_type": "code",
   "execution_count": 85,
   "id": "35832cfe",
   "metadata": {},
   "outputs": [],
   "source": [
    "scaler = StandardScaler()\n",
    "\n",
    "pipeline = Pipeline([('transformer', scaler), ('estimator', lr2)])"
   ]
  },
  {
   "cell_type": "code",
   "execution_count": 86,
   "id": "fa3bf5c4",
   "metadata": {},
   "outputs": [],
   "source": [
    "accuracy = get_scores(pipeline, 'accuracy')\n",
    "recall = get_scores(pipeline, 'recall')\n",
    "precision = get_scores(pipeline, 'precision')\n",
    "f1 = get_scores(pipeline, 'f1')\n",
    "\n",
    "specificity = make_scorer(recall_score, pos_label=0)\n",
    "specificity_score = get_scores(pipeline, specificity)\n",
    "\n",
    "sensitivity = make_scorer(recall_score, pos_label=1)\n",
    "sensitivity_score = get_scores(pipeline, sensitivity)"
   ]
  },
  {
   "cell_type": "code",
   "execution_count": 87,
   "id": "a65131f7",
   "metadata": {},
   "outputs": [
    {
     "name": "stdout",
     "output_type": "stream",
     "text": [
      "[['DT', 'Accuracy', 80.89], ['DT', 'Recall', 80.89], ['DT', 'Precision', 81.18], ['DT', 'F1-Score', 80.81], ['DT', 'Specificity', 80.89], ['DT', 'Sensitivity', 80.44], ['RF', 'Accuracy', 86.67], ['RF', 'Recall', 84.44], ['RF', 'Precision', 88.53], ['RF', 'F1-Score', 86.25], ['RF', 'Specificity', 88.89], ['RF', 'Sensitivity', 84.44], ['KNN', 'Accuracy', 83.44], ['KNN', 'Recall', 76.0], ['KNN', 'Precision', 89.47], ['KNN', 'F1-Score', 82.07], ['KNN', 'Specificity', 90.89], ['KNN', 'Sensitivity', 76.0], ['LR', 'Accuracy', 86.56], ['LR', 'Recall', 83.33], ['LR', 'Precision', 89.14], ['LR', 'F1-Score', 86.02], ['LR', 'Specificity', 89.78], ['LR', 'Sensitivity', 83.33]]\n"
     ]
    }
   ],
   "source": [
    "clf_scores.append(['LR', 'Accuracy', accuracy])\n",
    "clf_scores.append(['LR', 'Recall', recall])\n",
    "clf_scores.append(['LR', 'Precision', precision])\n",
    "clf_scores.append(['LR', 'F1-Score', f1])\n",
    "clf_scores.append(['LR', 'Specificity', specificity_score])\n",
    "clf_scores.append(['LR', 'Sensitivity', sensitivity_score])\n",
    "print(clf_scores)"
   ]
  },
  {
   "cell_type": "markdown",
   "id": "d7a18c9f",
   "metadata": {},
   "source": [
    "### Support Vector Machine"
   ]
  },
  {
   "cell_type": "markdown",
   "id": "d6bda3be",
   "metadata": {},
   "source": [
    "**Perform SVM Classifier and apply 10-fold cross validation**"
   ]
  },
  {
   "cell_type": "code",
   "execution_count": 88,
   "id": "cebe50a3",
   "metadata": {},
   "outputs": [],
   "source": [
    "from sklearn import svm\n",
    "\n",
    "sv_clf = svm.SVC(kernel='linear', C=1, random_state=1)"
   ]
  },
  {
   "cell_type": "code",
   "execution_count": 89,
   "id": "4df8ac41",
   "metadata": {},
   "outputs": [],
   "source": [
    "accuracy = get_scores(sv_clf, 'accuracy')\n",
    "recall = get_scores(sv_clf, 'recall')\n",
    "precision = get_scores(sv_clf, 'precision')\n",
    "f1 = get_scores(sv_clf, 'f1')\n",
    "\n",
    "specificity = make_scorer(recall_score, pos_label=0)\n",
    "specificity_score = get_scores(sv_clf, specificity)\n",
    "\n",
    "sensitivity = make_scorer(recall_score, pos_label=1)\n",
    "sensitivity_score = get_scores(sv_clf, sensitivity)"
   ]
  },
  {
   "cell_type": "code",
   "execution_count": 90,
   "id": "1ea4bc64",
   "metadata": {
    "scrolled": true
   },
   "outputs": [
    {
     "name": "stdout",
     "output_type": "stream",
     "text": [
      "[['DT', 'Accuracy', 80.89], ['DT', 'Recall', 80.89], ['DT', 'Precision', 81.18], ['DT', 'F1-Score', 80.81], ['DT', 'Specificity', 80.89], ['DT', 'Sensitivity', 80.44], ['RF', 'Accuracy', 86.67], ['RF', 'Recall', 84.44], ['RF', 'Precision', 88.53], ['RF', 'F1-Score', 86.25], ['RF', 'Specificity', 88.89], ['RF', 'Sensitivity', 84.44], ['KNN', 'Accuracy', 83.44], ['KNN', 'Recall', 76.0], ['KNN', 'Precision', 89.47], ['KNN', 'F1-Score', 82.07], ['KNN', 'Specificity', 90.89], ['KNN', 'Sensitivity', 76.0], ['LR', 'Accuracy', 86.56], ['LR', 'Recall', 83.33], ['LR', 'Precision', 89.14], ['LR', 'F1-Score', 86.02], ['LR', 'Specificity', 89.78], ['LR', 'Sensitivity', 83.33], ['SVM', 'Accuracy', 85.67], ['SVM', 'Recall', 86.22], ['SVM', 'Precision', 85.42], ['SVM', 'F1-Score', 85.63], ['SVM', 'Specificity', 85.11], ['SVM', 'Sensitivity', 86.22]]\n"
     ]
    }
   ],
   "source": [
    "clf_scores.append(['SVM', 'Accuracy', accuracy])\n",
    "clf_scores.append(['SVM', 'Recall', recall])\n",
    "clf_scores.append(['SVM', 'Precision', precision])\n",
    "clf_scores.append(['SVM', 'F1-Score', f1])\n",
    "clf_scores.append(['SVM', 'Specificity', specificity_score])\n",
    "clf_scores.append(['SVM', 'Sensitivity', sensitivity_score])\n",
    "print(clf_scores)"
   ]
  },
  {
   "cell_type": "markdown",
   "id": "19f67198",
   "metadata": {},
   "source": [
    "### Naive Bayes"
   ]
  },
  {
   "cell_type": "code",
   "execution_count": 91,
   "id": "fc4bd285",
   "metadata": {},
   "outputs": [],
   "source": [
    "from sklearn.naive_bayes import GaussianNB\n",
    "\n",
    "nb = GaussianNB()\n",
    "pipeline_nb = Pipeline([('transformer', scaler), ('estimator', nb)])"
   ]
  },
  {
   "cell_type": "code",
   "execution_count": 92,
   "id": "68b763af",
   "metadata": {},
   "outputs": [],
   "source": [
    "accuracy = get_scores(pipeline_nb, 'accuracy')\n",
    "recall = get_scores(pipeline_nb, 'recall')\n",
    "precision = get_scores(pipeline_nb, 'precision')\n",
    "f1 = get_scores(pipeline_nb, 'f1')\n",
    "\n",
    "specificity = make_scorer(recall_score, pos_label=0)\n",
    "specificity_score = get_scores(pipeline_nb, specificity)\n",
    "\n",
    "sensitivity = make_scorer(recall_score, pos_label=1)\n",
    "sensitivity_score = get_scores(pipeline_nb, sensitivity)"
   ]
  },
  {
   "cell_type": "code",
   "execution_count": 93,
   "id": "8beefdc8",
   "metadata": {},
   "outputs": [
    {
     "name": "stdout",
     "output_type": "stream",
     "text": [
      "[['DT', 'Accuracy', 80.89], ['DT', 'Recall', 80.89], ['DT', 'Precision', 81.18], ['DT', 'F1-Score', 80.81], ['DT', 'Specificity', 80.89], ['DT', 'Sensitivity', 80.44], ['RF', 'Accuracy', 86.67], ['RF', 'Recall', 84.44], ['RF', 'Precision', 88.53], ['RF', 'F1-Score', 86.25], ['RF', 'Specificity', 88.89], ['RF', 'Sensitivity', 84.44], ['KNN', 'Accuracy', 83.44], ['KNN', 'Recall', 76.0], ['KNN', 'Precision', 89.47], ['KNN', 'F1-Score', 82.07], ['KNN', 'Specificity', 90.89], ['KNN', 'Sensitivity', 76.0], ['LR', 'Accuracy', 86.56], ['LR', 'Recall', 83.33], ['LR', 'Precision', 89.14], ['LR', 'F1-Score', 86.02], ['LR', 'Specificity', 89.78], ['LR', 'Sensitivity', 83.33], ['SVM', 'Accuracy', 85.67], ['SVM', 'Recall', 86.22], ['SVM', 'Precision', 85.42], ['SVM', 'F1-Score', 85.63], ['SVM', 'Specificity', 85.11], ['SVM', 'Sensitivity', 86.22], ['NB', 'Accuracy', 83.89], ['NB', 'Recall', 74.67], ['NB', 'Precision', 91.62], ['NB', 'F1-Score', 82.11], ['NB', 'Specificity', 93.11], ['NB', 'Sensitivity', 74.67]]\n"
     ]
    }
   ],
   "source": [
    "clf_scores.append(['NB', 'Accuracy', accuracy])\n",
    "clf_scores.append(['NB', 'Recall', recall])\n",
    "clf_scores.append(['NB', 'Precision', precision])\n",
    "clf_scores.append(['NB', 'F1-Score', f1])\n",
    "clf_scores.append(['NB', 'Specificity', specificity_score])\n",
    "clf_scores.append(['NB', 'Sensitivity', sensitivity_score])\n",
    "print(clf_scores)"
   ]
  },
  {
   "cell_type": "markdown",
   "id": "a98f5792",
   "metadata": {},
   "source": [
    "# 3. Visualization"
   ]
  },
  {
   "cell_type": "code",
   "execution_count": 94,
   "id": "8d0217ac",
   "metadata": {},
   "outputs": [],
   "source": [
    "import seaborn as sns\n",
    "import matplotlib.pyplot as plt"
   ]
  },
  {
   "cell_type": "markdown",
   "id": "48960fa1",
   "metadata": {},
   "source": [
    "## 10-fold cross validation accuracy scores in each classifiers"
   ]
  },
  {
   "cell_type": "markdown",
   "id": "48534e3d",
   "metadata": {},
   "source": [
    "#### DT Accuracy Scores in 10 folds"
   ]
  },
  {
   "cell_type": "code",
   "execution_count": 95,
   "id": "6ffc6a3c",
   "metadata": {},
   "outputs": [
    {
     "data": {
      "image/png": "[encoded data removed]",
      "text/plain": [
       "<Figure size 1000x800 with 1 Axes>"
      ]
     },
     "metadata": {},
     "output_type": "display_data"
    }
   ],
   "source": [
    "dt_scores = get_scoreslist_accuracy(dtree)\n",
    "\n",
    "plot_accuracy_result(\n",
    "    'Decision Tree', \n",
    "    'Accuracy', \n",
    "    dt_scores['Training Accuracy Scores'],\n",
    "    dt_scores['Validation Accuracy Scores'],\n",
    ")"
   ]
  },
  {
   "cell_type": "markdown",
   "id": "2a0d0ec9",
   "metadata": {},
   "source": [
    "#### RF Accuracy Scores in 10 folds"
   ]
  },
  {
   "cell_type": "code",
   "execution_count": 96,
   "id": "37160ac6",
   "metadata": {
    "scrolled": false
   },
   "outputs": [
    {
     "data": {
      "image/png": "[encoded data removed]",
      "text/plain": [
       "<Figure size 1000x800 with 1 Axes>"
      ]
     },
     "metadata": {},
     "output_type": "display_data"
    }
   ],
   "source": [
    "rf_scores = get_scoreslist_accuracy(rf)\n",
    "\n",
    "plot_accuracy_result(\n",
    "    'Random Forest', \n",
    "    'Accuracy', \n",
    "    rf_scores['Training Accuracy Scores'],\n",
    "    rf_scores['Validation Accuracy Scores'],\n",
    ")"
   ]
  },
  {
   "cell_type": "markdown",
   "id": "4459a985",
   "metadata": {},
   "source": [
    "#### KNN Accuracy Scores in 10 folds"
   ]
  },
  {
   "cell_type": "code",
   "execution_count": 97,
   "id": "b8d6a0bc",
   "metadata": {},
   "outputs": [
    {
     "data": {
      "image/png": "[encoded data removed]",
      "text/plain": [
       "<Figure size 1000x800 with 1 Axes>"
      ]
     },
     "metadata": {},
     "output_type": "display_data"
    }
   ],
   "source": [
    "knn_scores = get_scoreslist_accuracy(knn)\n",
    "\n",
    "plot_accuracy_result(\n",
    "    'K-Nearest Neighbors', \n",
    "    'Accuracy', \n",
    "    knn_scores['Training Accuracy Scores'],\n",
    "    knn_scores['Validation Accuracy Scores'],\n",
    ")"
   ]
  },
  {
   "cell_type": "markdown",
   "id": "963b78bb",
   "metadata": {},
   "source": [
    "#### Logistic Regression (Regularized) Scores in 10 folds"
   ]
  },
  {
   "cell_type": "code",
   "execution_count": 98,
   "id": "e94ad368",
   "metadata": {
    "scrolled": false
   },
   "outputs": [
    {
     "data": {
      "image/png": "[encoded data removed]",
      "text/plain": [
       "<Figure size 1000x800 with 1 Axes>"
      ]
     },
     "metadata": {},
     "output_type": "display_data"
    }
   ],
   "source": [
    "lr2_scores = get_scoreslist_accuracy(lr2, True)\n",
    "\n",
    "plot_accuracy_result(\n",
    "    'Regularized Logistic Regression', \n",
    "    'Accuracy', \n",
    "    lr2_scores['Training Accuracy Scores'],\n",
    "    lr2_scores['Validation Accuracy Scores'],\n",
    ")"
   ]
  },
  {
   "cell_type": "markdown",
   "id": "33e2e0d5",
   "metadata": {},
   "source": [
    "#### SVM Accuracy Scores in 10 folds"
   ]
  },
  {
   "cell_type": "code",
   "execution_count": 99,
   "id": "7d40db7f",
   "metadata": {
    "scrolled": false
   },
   "outputs": [
    {
     "data": {
      "image/png": "[encoded data removed]",
      "text/plain": [
       "<Figure size 1000x800 with 1 Axes>"
      ]
     },
     "metadata": {},
     "output_type": "display_data"
    }
   ],
   "source": [
    "svm_scores = get_scoreslist_accuracy(sv_clf)\n",
    "\n",
    "plot_accuracy_result(\n",
    "    'Support Vector Machines', \n",
    "    'Accuracy', \n",
    "    svm_scores['Training Accuracy Scores'],\n",
    "    svm_scores['Validation Accuracy Scores'],\n",
    ")"
   ]
  },
  {
   "cell_type": "markdown",
   "id": "266d842f",
   "metadata": {},
   "source": [
    "#### Naive Bayes Scores in 10 fold"
   ]
  },
  {
   "cell_type": "code",
   "execution_count": 100,
   "id": "311543c4",
   "metadata": {},
   "outputs": [
    {
     "data": {
      "image/png": "[encoded data removed]",
      "text/plain": [
       "<Figure size 1000x800 with 1 Axes>"
      ]
     },
     "metadata": {},
     "output_type": "display_data"
    }
   ],
   "source": [
    "nb_scores = get_scoreslist_accuracy(nb)\n",
    "\n",
    "plot_accuracy_result(\n",
    "    'Naive Bayes', \n",
    "    'Accuracy', \n",
    "    nb_scores['Training Accuracy Scores'],\n",
    "    nb_scores['Validation Accuracy Scores'],\n",
    ")"
   ]
  },
  {
   "cell_type": "markdown",
   "id": "097493a8",
   "metadata": {},
   "source": [
    "### PERFORMANCE MEASURES"
   ]
  },
  {
   "cell_type": "code",
   "execution_count": 101,
   "id": "5df1c5d9",
   "metadata": {},
   "outputs": [
    {
     "data": {
      "text/html": [
       "<div>\n",
       "<style scoped>\n",
       "    .dataframe tbody tr th:only-of-type {\n",
       "        vertical-align: middle;\n",
       "    }\n",
       "\n",
       "    .dataframe tbody tr th {\n",
       "        vertical-align: top;\n",
       "    }\n",
       "\n",
       "    .dataframe thead th {\n",
       "        text-align: right;\n",
       "    }\n",
       "</style>\n",
       "<table border=\"1\" class=\"dataframe\">\n",
       "  <thead>\n",
       "    <tr style=\"text-align: right;\">\n",
       "      <th></th>\n",
       "      <th>Classifier</th>\n",
       "      <th>Performance Measure</th>\n",
       "      <th>Score</th>\n",
       "    </tr>\n",
       "  </thead>\n",
       "  <tbody>\n",
       "    <tr>\n",
       "      <th>0</th>\n",
       "      <td>DT</td>\n",
       "      <td>Accuracy</td>\n",
       "      <td>80.89</td>\n",
       "    </tr>\n",
       "    <tr>\n",
       "      <th>1</th>\n",
       "      <td>DT</td>\n",
       "      <td>Recall</td>\n",
       "      <td>80.89</td>\n",
       "    </tr>\n",
       "    <tr>\n",
       "      <th>2</th>\n",
       "      <td>DT</td>\n",
       "      <td>Precision</td>\n",
       "      <td>81.18</td>\n",
       "    </tr>\n",
       "    <tr>\n",
       "      <th>3</th>\n",
       "      <td>DT</td>\n",
       "      <td>F1-Score</td>\n",
       "      <td>80.81</td>\n",
       "    </tr>\n",
       "    <tr>\n",
       "      <th>4</th>\n",
       "      <td>DT</td>\n",
       "      <td>Specificity</td>\n",
       "      <td>80.89</td>\n",
       "    </tr>\n",
       "    <tr>\n",
       "      <th>5</th>\n",
       "      <td>DT</td>\n",
       "      <td>Sensitivity</td>\n",
       "      <td>80.44</td>\n",
       "    </tr>\n",
       "    <tr>\n",
       "      <th>6</th>\n",
       "      <td>RF</td>\n",
       "      <td>Accuracy</td>\n",
       "      <td>86.67</td>\n",
       "    </tr>\n",
       "    <tr>\n",
       "      <th>7</th>\n",
       "      <td>RF</td>\n",
       "      <td>Recall</td>\n",
       "      <td>84.44</td>\n",
       "    </tr>\n",
       "    <tr>\n",
       "      <th>8</th>\n",
       "      <td>RF</td>\n",
       "      <td>Precision</td>\n",
       "      <td>88.53</td>\n",
       "    </tr>\n",
       "    <tr>\n",
       "      <th>9</th>\n",
       "      <td>RF</td>\n",
       "      <td>F1-Score</td>\n",
       "      <td>86.25</td>\n",
       "    </tr>\n",
       "    <tr>\n",
       "      <th>10</th>\n",
       "      <td>RF</td>\n",
       "      <td>Specificity</td>\n",
       "      <td>88.89</td>\n",
       "    </tr>\n",
       "    <tr>\n",
       "      <th>11</th>\n",
       "      <td>RF</td>\n",
       "      <td>Sensitivity</td>\n",
       "      <td>84.44</td>\n",
       "    </tr>\n",
       "    <tr>\n",
       "      <th>12</th>\n",
       "      <td>KNN</td>\n",
       "      <td>Accuracy</td>\n",
       "      <td>83.44</td>\n",
       "    </tr>\n",
       "    <tr>\n",
       "      <th>13</th>\n",
       "      <td>KNN</td>\n",
       "      <td>Recall</td>\n",
       "      <td>76.00</td>\n",
       "    </tr>\n",
       "    <tr>\n",
       "      <th>14</th>\n",
       "      <td>KNN</td>\n",
       "      <td>Precision</td>\n",
       "      <td>89.47</td>\n",
       "    </tr>\n",
       "    <tr>\n",
       "      <th>15</th>\n",
       "      <td>KNN</td>\n",
       "      <td>F1-Score</td>\n",
       "      <td>82.07</td>\n",
       "    </tr>\n",
       "    <tr>\n",
       "      <th>16</th>\n",
       "      <td>KNN</td>\n",
       "      <td>Specificity</td>\n",
       "      <td>90.89</td>\n",
       "    </tr>\n",
       "    <tr>\n",
       "      <th>17</th>\n",
       "      <td>KNN</td>\n",
       "      <td>Sensitivity</td>\n",
       "      <td>76.00</td>\n",
       "    </tr>\n",
       "    <tr>\n",
       "      <th>18</th>\n",
       "      <td>LR</td>\n",
       "      <td>Accuracy</td>\n",
       "      <td>86.56</td>\n",
       "    </tr>\n",
       "    <tr>\n",
       "      <th>19</th>\n",
       "      <td>LR</td>\n",
       "      <td>Recall</td>\n",
       "      <td>83.33</td>\n",
       "    </tr>\n",
       "    <tr>\n",
       "      <th>20</th>\n",
       "      <td>LR</td>\n",
       "      <td>Precision</td>\n",
       "      <td>89.14</td>\n",
       "    </tr>\n",
       "    <tr>\n",
       "      <th>21</th>\n",
       "      <td>LR</td>\n",
       "      <td>F1-Score</td>\n",
       "      <td>86.02</td>\n",
       "    </tr>\n",
       "    <tr>\n",
       "      <th>22</th>\n",
       "      <td>LR</td>\n",
       "      <td>Specificity</td>\n",
       "      <td>89.78</td>\n",
       "    </tr>\n",
       "    <tr>\n",
       "      <th>23</th>\n",
       "      <td>LR</td>\n",
       "      <td>Sensitivity</td>\n",
       "      <td>83.33</td>\n",
       "    </tr>\n",
       "    <tr>\n",
       "      <th>24</th>\n",
       "      <td>SVM</td>\n",
       "      <td>Accuracy</td>\n",
       "      <td>85.67</td>\n",
       "    </tr>\n",
       "    <tr>\n",
       "      <th>25</th>\n",
       "      <td>SVM</td>\n",
       "      <td>Recall</td>\n",
       "      <td>86.22</td>\n",
       "    </tr>\n",
       "    <tr>\n",
       "      <th>26</th>\n",
       "      <td>SVM</td>\n",
       "      <td>Precision</td>\n",
       "      <td>85.42</td>\n",
       "    </tr>\n",
       "    <tr>\n",
       "      <th>27</th>\n",
       "      <td>SVM</td>\n",
       "      <td>F1-Score</td>\n",
       "      <td>85.63</td>\n",
       "    </tr>\n",
       "    <tr>\n",
       "      <th>28</th>\n",
       "      <td>SVM</td>\n",
       "      <td>Specificity</td>\n",
       "      <td>85.11</td>\n",
       "    </tr>\n",
       "    <tr>\n",
       "      <th>29</th>\n",
       "      <td>SVM</td>\n",
       "      <td>Sensitivity</td>\n",
       "      <td>86.22</td>\n",
       "    </tr>\n",
       "    <tr>\n",
       "      <th>30</th>\n",
       "      <td>NB</td>\n",
       "      <td>Accuracy</td>\n",
       "      <td>83.89</td>\n",
       "    </tr>\n",
       "    <tr>\n",
       "      <th>31</th>\n",
       "      <td>NB</td>\n",
       "      <td>Recall</td>\n",
       "      <td>74.67</td>\n",
       "    </tr>\n",
       "    <tr>\n",
       "      <th>32</th>\n",
       "      <td>NB</td>\n",
       "      <td>Precision</td>\n",
       "      <td>91.62</td>\n",
       "    </tr>\n",
       "    <tr>\n",
       "      <th>33</th>\n",
       "      <td>NB</td>\n",
       "      <td>F1-Score</td>\n",
       "      <td>82.11</td>\n",
       "    </tr>\n",
       "    <tr>\n",
       "      <th>34</th>\n",
       "      <td>NB</td>\n",
       "      <td>Specificity</td>\n",
       "      <td>93.11</td>\n",
       "    </tr>\n",
       "    <tr>\n",
       "      <th>35</th>\n",
       "      <td>NB</td>\n",
       "      <td>Sensitivity</td>\n",
       "      <td>74.67</td>\n",
       "    </tr>\n",
       "  </tbody>\n",
       "</table>\n",
       "</div>"
      ],
      "text/plain": [
       "   Classifier Performance Measure  Score\n",
       "0          DT            Accuracy  80.89\n",
       "1          DT              Recall  80.89\n",
       "2          DT           Precision  81.18\n",
       "3          DT            F1-Score  80.81\n",
       "4          DT         Specificity  80.89\n",
       "5          DT         Sensitivity  80.44\n",
       "6          RF            Accuracy  86.67\n",
       "7          RF              Recall  84.44\n",
       "8          RF           Precision  88.53\n",
       "9          RF            F1-Score  86.25\n",
       "10         RF         Specificity  88.89\n",
       "11         RF         Sensitivity  84.44\n",
       "12        KNN            Accuracy  83.44\n",
       "13        KNN              Recall  76.00\n",
       "14        KNN           Precision  89.47\n",
       "15        KNN            F1-Score  82.07\n",
       "16        KNN         Specificity  90.89\n",
       "17        KNN         Sensitivity  76.00\n",
       "18         LR            Accuracy  86.56\n",
       "19         LR              Recall  83.33\n",
       "20         LR           Precision  89.14\n",
       "21         LR            F1-Score  86.02\n",
       "22         LR         Specificity  89.78\n",
       "23         LR         Sensitivity  83.33\n",
       "24        SVM            Accuracy  85.67\n",
       "25        SVM              Recall  86.22\n",
       "26        SVM           Precision  85.42\n",
       "27        SVM            F1-Score  85.63\n",
       "28        SVM         Specificity  85.11\n",
       "29        SVM         Sensitivity  86.22\n",
       "30         NB            Accuracy  83.89\n",
       "31         NB              Recall  74.67\n",
       "32         NB           Precision  91.62\n",
       "33         NB            F1-Score  82.11\n",
       "34         NB         Specificity  93.11\n",
       "35         NB         Sensitivity  74.67"
      ]
     },
     "execution_count": 101,
     "metadata": {},
     "output_type": "execute_result"
    }
   ],
   "source": [
    "viz_df = pd.DataFrame(clf_scores, columns=['Classifier','Performance Measure','Score'])\n",
    "\n",
    "viz_df"
   ]
  },
  {
   "cell_type": "code",
   "execution_count": 110,
   "id": "0444c494",
   "metadata": {
    "scrolled": false
   },
   "outputs": [
    {
     "data": {
      "image/png": "[encoded data removed]",
      "text/plain": [
       "<Figure size 1000x800 with 1 Axes>"
      ]
     },
     "metadata": {},
     "output_type": "display_data"
    }
   ],
   "source": [
    "fig, ax = plt.subplots(figsize=(10, 8))\n",
    "\n",
    "perf_levels = sns.barplot(\n",
    "    x ='Performance Measure', \n",
    "    y='Score', \n",
    "    hue='Classifier',\n",
    "    data=viz_df, \n",
    "    estimator=np.median, \n",
    "    errorbar=('ci', 0), \n",
    "    ax=ax\n",
    ")\n",
    "\n",
    "ax.set_ylim(1, 100)\n",
    "perf_levels.legend(fontsize=5)\n",
    "perf_levels.set(title='Predictive Models Performance Levels')\n",
    "\n",
    "for i in ax.containers:\n",
    "    ax.bar_label(i,fontsize=5)\n",
    "\n",
    "plt.show()"
   ]
  },
  {
   "cell_type": "markdown",
   "id": "ff51ce15",
   "metadata": {},
   "source": [
    "# Extra (Performed Stratified K-Fold Cross Validation with Decision Tree)"
   ]
  },
  {
   "cell_type": "markdown",
   "id": "b36a0292",
   "metadata": {},
   "source": [
    "**The 10-fold visualization of Decision Tree above performed poorly based on accuracy. I tried out the stratified K-Fold cross validation to balance the distribution of the classes in each fold to avoid bias towards each n fold.**"
   ]
  },
  {
   "cell_type": "code",
   "execution_count": 111,
   "id": "eaa08d35",
   "metadata": {},
   "outputs": [],
   "source": [
    "from sklearn.model_selection import StratifiedKFold\n",
    "\n",
    "skf = StratifiedKFold(n_splits=10, shuffle=True, random_state=1)\n",
    "lst_accu_stratified_train = []\n",
    "lst_accu_stratified_test = []\n",
    "\n",
    "df_strat = pd.read_csv('Raisin_Dataset.csv', header=None)"
   ]
  },
  {
   "cell_type": "code",
   "execution_count": 112,
   "id": "3cf13954",
   "metadata": {},
   "outputs": [
    {
     "data": {
      "text/html": [
       "<div>\n",
       "<style scoped>\n",
       "    .dataframe tbody tr th:only-of-type {\n",
       "        vertical-align: middle;\n",
       "    }\n",
       "\n",
       "    .dataframe tbody tr th {\n",
       "        vertical-align: top;\n",
       "    }\n",
       "\n",
       "    .dataframe thead th {\n",
       "        text-align: right;\n",
       "    }\n",
       "</style>\n",
       "<table border=\"1\" class=\"dataframe\">\n",
       "  <thead>\n",
       "    <tr style=\"text-align: right;\">\n",
       "      <th></th>\n",
       "      <th>0</th>\n",
       "      <th>1</th>\n",
       "      <th>2</th>\n",
       "      <th>3</th>\n",
       "      <th>4</th>\n",
       "      <th>5</th>\n",
       "      <th>6</th>\n",
       "      <th>7</th>\n",
       "    </tr>\n",
       "  </thead>\n",
       "  <tbody>\n",
       "    <tr>\n",
       "      <th>1</th>\n",
       "      <td>87524</td>\n",
       "      <td>442.2460114</td>\n",
       "      <td>253.291155</td>\n",
       "      <td>0.819738392</td>\n",
       "      <td>90546</td>\n",
       "      <td>0.758650579</td>\n",
       "      <td>1184.04</td>\n",
       "      <td>Kecimen</td>\n",
       "    </tr>\n",
       "    <tr>\n",
       "      <th>2</th>\n",
       "      <td>75166</td>\n",
       "      <td>406.690687</td>\n",
       "      <td>243.0324363</td>\n",
       "      <td>0.801805234</td>\n",
       "      <td>78789</td>\n",
       "      <td>0.68412957</td>\n",
       "      <td>1121.786</td>\n",
       "      <td>Kecimen</td>\n",
       "    </tr>\n",
       "    <tr>\n",
       "      <th>3</th>\n",
       "      <td>90856</td>\n",
       "      <td>442.2670483</td>\n",
       "      <td>266.3283177</td>\n",
       "      <td>0.798353619</td>\n",
       "      <td>93717</td>\n",
       "      <td>0.637612812</td>\n",
       "      <td>1208.575</td>\n",
       "      <td>Kecimen</td>\n",
       "    </tr>\n",
       "    <tr>\n",
       "      <th>4</th>\n",
       "      <td>45928</td>\n",
       "      <td>286.5405586</td>\n",
       "      <td>208.7600423</td>\n",
       "      <td>0.684989217</td>\n",
       "      <td>47336</td>\n",
       "      <td>0.699599385</td>\n",
       "      <td>844.162</td>\n",
       "      <td>Kecimen</td>\n",
       "    </tr>\n",
       "    <tr>\n",
       "      <th>5</th>\n",
       "      <td>79408</td>\n",
       "      <td>352.1907699</td>\n",
       "      <td>290.8275329</td>\n",
       "      <td>0.56401133</td>\n",
       "      <td>81463</td>\n",
       "      <td>0.792771926</td>\n",
       "      <td>1073.251</td>\n",
       "      <td>Kecimen</td>\n",
       "    </tr>\n",
       "    <tr>\n",
       "      <th>...</th>\n",
       "      <td>...</td>\n",
       "      <td>...</td>\n",
       "      <td>...</td>\n",
       "      <td>...</td>\n",
       "      <td>...</td>\n",
       "      <td>...</td>\n",
       "      <td>...</td>\n",
       "      <td>...</td>\n",
       "    </tr>\n",
       "    <tr>\n",
       "      <th>896</th>\n",
       "      <td>83248</td>\n",
       "      <td>430.0773077</td>\n",
       "      <td>247.8386945</td>\n",
       "      <td>0.817262582</td>\n",
       "      <td>85839</td>\n",
       "      <td>0.66879293</td>\n",
       "      <td>1129.072</td>\n",
       "      <td>Besni</td>\n",
       "    </tr>\n",
       "    <tr>\n",
       "      <th>897</th>\n",
       "      <td>87350</td>\n",
       "      <td>440.7356978</td>\n",
       "      <td>259.2931487</td>\n",
       "      <td>0.808628995</td>\n",
       "      <td>90899</td>\n",
       "      <td>0.636476246</td>\n",
       "      <td>1214.252</td>\n",
       "      <td>Besni</td>\n",
       "    </tr>\n",
       "    <tr>\n",
       "      <th>898</th>\n",
       "      <td>99657</td>\n",
       "      <td>431.7069809</td>\n",
       "      <td>298.8373229</td>\n",
       "      <td>0.721684066</td>\n",
       "      <td>106264</td>\n",
       "      <td>0.741098519</td>\n",
       "      <td>1292.828</td>\n",
       "      <td>Besni</td>\n",
       "    </tr>\n",
       "    <tr>\n",
       "      <th>899</th>\n",
       "      <td>93523</td>\n",
       "      <td>476.3440939</td>\n",
       "      <td>254.1760536</td>\n",
       "      <td>0.84573851</td>\n",
       "      <td>97653</td>\n",
       "      <td>0.658798253</td>\n",
       "      <td>1258.548</td>\n",
       "      <td>Besni</td>\n",
       "    </tr>\n",
       "    <tr>\n",
       "      <th>900</th>\n",
       "      <td>85609</td>\n",
       "      <td>512.0817743</td>\n",
       "      <td>215.2719758</td>\n",
       "      <td>0.907345395</td>\n",
       "      <td>89197</td>\n",
       "      <td>0.632019963</td>\n",
       "      <td>1272.862</td>\n",
       "      <td>Besni</td>\n",
       "    </tr>\n",
       "  </tbody>\n",
       "</table>\n",
       "<p>900 rows × 8 columns</p>\n",
       "</div>"
      ],
      "text/plain": [
       "         0            1            2            3       4            5  \\\n",
       "1    87524  442.2460114   253.291155  0.819738392   90546  0.758650579   \n",
       "2    75166   406.690687  243.0324363  0.801805234   78789   0.68412957   \n",
       "3    90856  442.2670483  266.3283177  0.798353619   93717  0.637612812   \n",
       "4    45928  286.5405586  208.7600423  0.684989217   47336  0.699599385   \n",
       "5    79408  352.1907699  290.8275329   0.56401133   81463  0.792771926   \n",
       "..     ...          ...          ...          ...     ...          ...   \n",
       "896  83248  430.0773077  247.8386945  0.817262582   85839   0.66879293   \n",
       "897  87350  440.7356978  259.2931487  0.808628995   90899  0.636476246   \n",
       "898  99657  431.7069809  298.8373229  0.721684066  106264  0.741098519   \n",
       "899  93523  476.3440939  254.1760536   0.84573851   97653  0.658798253   \n",
       "900  85609  512.0817743  215.2719758  0.907345395   89197  0.632019963   \n",
       "\n",
       "            6        7  \n",
       "1     1184.04  Kecimen  \n",
       "2    1121.786  Kecimen  \n",
       "3    1208.575  Kecimen  \n",
       "4     844.162  Kecimen  \n",
       "5    1073.251  Kecimen  \n",
       "..        ...      ...  \n",
       "896  1129.072    Besni  \n",
       "897  1214.252    Besni  \n",
       "898  1292.828    Besni  \n",
       "899  1258.548    Besni  \n",
       "900  1272.862    Besni  \n",
       "\n",
       "[900 rows x 8 columns]"
      ]
     },
     "execution_count": 112,
     "metadata": {},
     "output_type": "execute_result"
    }
   ],
   "source": [
    "df_strat = df_strat.drop(df_strat.index[0])\n",
    "df_strat"
   ]
  },
  {
   "cell_type": "code",
   "execution_count": 113,
   "id": "74ef4cff",
   "metadata": {},
   "outputs": [],
   "source": [
    "df_strat[7] = df_strat[7].map({'Kecimen': 0, 'Besni': 1})\n",
    "\n",
    "x_strat = df_strat[[0,1,2,3,4,5,6]]\n",
    "y_strat = df_strat[7]"
   ]
  },
  {
   "cell_type": "code",
   "execution_count": 114,
   "id": "6863f835",
   "metadata": {},
   "outputs": [
    {
     "data": {
      "text/html": [
       "<div>\n",
       "<style scoped>\n",
       "    .dataframe tbody tr th:only-of-type {\n",
       "        vertical-align: middle;\n",
       "    }\n",
       "\n",
       "    .dataframe tbody tr th {\n",
       "        vertical-align: top;\n",
       "    }\n",
       "\n",
       "    .dataframe thead th {\n",
       "        text-align: right;\n",
       "    }\n",
       "</style>\n",
       "<table border=\"1\" class=\"dataframe\">\n",
       "  <thead>\n",
       "    <tr style=\"text-align: right;\">\n",
       "      <th></th>\n",
       "      <th>0</th>\n",
       "      <th>1</th>\n",
       "      <th>2</th>\n",
       "      <th>3</th>\n",
       "      <th>4</th>\n",
       "      <th>5</th>\n",
       "      <th>6</th>\n",
       "    </tr>\n",
       "  </thead>\n",
       "  <tbody>\n",
       "    <tr>\n",
       "      <th>1</th>\n",
       "      <td>87524</td>\n",
       "      <td>442.2460114</td>\n",
       "      <td>253.291155</td>\n",
       "      <td>0.819738392</td>\n",
       "      <td>90546</td>\n",
       "      <td>0.758650579</td>\n",
       "      <td>1184.04</td>\n",
       "    </tr>\n",
       "    <tr>\n",
       "      <th>2</th>\n",
       "      <td>75166</td>\n",
       "      <td>406.690687</td>\n",
       "      <td>243.0324363</td>\n",
       "      <td>0.801805234</td>\n",
       "      <td>78789</td>\n",
       "      <td>0.68412957</td>\n",
       "      <td>1121.786</td>\n",
       "    </tr>\n",
       "    <tr>\n",
       "      <th>3</th>\n",
       "      <td>90856</td>\n",
       "      <td>442.2670483</td>\n",
       "      <td>266.3283177</td>\n",
       "      <td>0.798353619</td>\n",
       "      <td>93717</td>\n",
       "      <td>0.637612812</td>\n",
       "      <td>1208.575</td>\n",
       "    </tr>\n",
       "    <tr>\n",
       "      <th>4</th>\n",
       "      <td>45928</td>\n",
       "      <td>286.5405586</td>\n",
       "      <td>208.7600423</td>\n",
       "      <td>0.684989217</td>\n",
       "      <td>47336</td>\n",
       "      <td>0.699599385</td>\n",
       "      <td>844.162</td>\n",
       "    </tr>\n",
       "    <tr>\n",
       "      <th>5</th>\n",
       "      <td>79408</td>\n",
       "      <td>352.1907699</td>\n",
       "      <td>290.8275329</td>\n",
       "      <td>0.56401133</td>\n",
       "      <td>81463</td>\n",
       "      <td>0.792771926</td>\n",
       "      <td>1073.251</td>\n",
       "    </tr>\n",
       "    <tr>\n",
       "      <th>...</th>\n",
       "      <td>...</td>\n",
       "      <td>...</td>\n",
       "      <td>...</td>\n",
       "      <td>...</td>\n",
       "      <td>...</td>\n",
       "      <td>...</td>\n",
       "      <td>...</td>\n",
       "    </tr>\n",
       "    <tr>\n",
       "      <th>896</th>\n",
       "      <td>83248</td>\n",
       "      <td>430.0773077</td>\n",
       "      <td>247.8386945</td>\n",
       "      <td>0.817262582</td>\n",
       "      <td>85839</td>\n",
       "      <td>0.66879293</td>\n",
       "      <td>1129.072</td>\n",
       "    </tr>\n",
       "    <tr>\n",
       "      <th>897</th>\n",
       "      <td>87350</td>\n",
       "      <td>440.7356978</td>\n",
       "      <td>259.2931487</td>\n",
       "      <td>0.808628995</td>\n",
       "      <td>90899</td>\n",
       "      <td>0.636476246</td>\n",
       "      <td>1214.252</td>\n",
       "    </tr>\n",
       "    <tr>\n",
       "      <th>898</th>\n",
       "      <td>99657</td>\n",
       "      <td>431.7069809</td>\n",
       "      <td>298.8373229</td>\n",
       "      <td>0.721684066</td>\n",
       "      <td>106264</td>\n",
       "      <td>0.741098519</td>\n",
       "      <td>1292.828</td>\n",
       "    </tr>\n",
       "    <tr>\n",
       "      <th>899</th>\n",
       "      <td>93523</td>\n",
       "      <td>476.3440939</td>\n",
       "      <td>254.1760536</td>\n",
       "      <td>0.84573851</td>\n",
       "      <td>97653</td>\n",
       "      <td>0.658798253</td>\n",
       "      <td>1258.548</td>\n",
       "    </tr>\n",
       "    <tr>\n",
       "      <th>900</th>\n",
       "      <td>85609</td>\n",
       "      <td>512.0817743</td>\n",
       "      <td>215.2719758</td>\n",
       "      <td>0.907345395</td>\n",
       "      <td>89197</td>\n",
       "      <td>0.632019963</td>\n",
       "      <td>1272.862</td>\n",
       "    </tr>\n",
       "  </tbody>\n",
       "</table>\n",
       "<p>900 rows × 7 columns</p>\n",
       "</div>"
      ],
      "text/plain": [
       "         0            1            2            3       4            5  \\\n",
       "1    87524  442.2460114   253.291155  0.819738392   90546  0.758650579   \n",
       "2    75166   406.690687  243.0324363  0.801805234   78789   0.68412957   \n",
       "3    90856  442.2670483  266.3283177  0.798353619   93717  0.637612812   \n",
       "4    45928  286.5405586  208.7600423  0.684989217   47336  0.699599385   \n",
       "5    79408  352.1907699  290.8275329   0.56401133   81463  0.792771926   \n",
       "..     ...          ...          ...          ...     ...          ...   \n",
       "896  83248  430.0773077  247.8386945  0.817262582   85839   0.66879293   \n",
       "897  87350  440.7356978  259.2931487  0.808628995   90899  0.636476246   \n",
       "898  99657  431.7069809  298.8373229  0.721684066  106264  0.741098519   \n",
       "899  93523  476.3440939  254.1760536   0.84573851   97653  0.658798253   \n",
       "900  85609  512.0817743  215.2719758  0.907345395   89197  0.632019963   \n",
       "\n",
       "            6  \n",
       "1     1184.04  \n",
       "2    1121.786  \n",
       "3    1208.575  \n",
       "4     844.162  \n",
       "5    1073.251  \n",
       "..        ...  \n",
       "896  1129.072  \n",
       "897  1214.252  \n",
       "898  1292.828  \n",
       "899  1258.548  \n",
       "900  1272.862  \n",
       "\n",
       "[900 rows x 7 columns]"
      ]
     },
     "execution_count": 114,
     "metadata": {},
     "output_type": "execute_result"
    }
   ],
   "source": [
    "x_strat"
   ]
  },
  {
   "cell_type": "code",
   "execution_count": 115,
   "id": "1a8edb77",
   "metadata": {},
   "outputs": [
    {
     "data": {
      "text/plain": [
       "1      0\n",
       "2      0\n",
       "3      0\n",
       "4      0\n",
       "5      0\n",
       "      ..\n",
       "896    1\n",
       "897    1\n",
       "898    1\n",
       "899    1\n",
       "900    1\n",
       "Name: 7, Length: 900, dtype: int64"
      ]
     },
     "execution_count": 115,
     "metadata": {},
     "output_type": "execute_result"
    }
   ],
   "source": [
    "y_strat"
   ]
  },
  {
   "cell_type": "code",
   "execution_count": 116,
   "id": "67c36724",
   "metadata": {
    "scrolled": true
   },
   "outputs": [
    {
     "data": {
      "text/plain": [
       "10"
      ]
     },
     "execution_count": 116,
     "metadata": {},
     "output_type": "execute_result"
    }
   ],
   "source": [
    "dtree_strat = DecisionTreeClassifier()\n",
    "skf.get_n_splits(x,y)"
   ]
  },
  {
   "cell_type": "markdown",
   "id": "012f3722",
   "metadata": {},
   "source": [
    "*Performed Stratified K-fold cross validation*"
   ]
  },
  {
   "cell_type": "code",
   "execution_count": 117,
   "id": "2d4ec6e9",
   "metadata": {
    "scrolled": false
   },
   "outputs": [],
   "source": [
    "for train_index, test_index in skf.split(x, y): \n",
    "    x_train_fold, x_test_fold = x.iloc[train_index], x.iloc[test_index] \n",
    "    y_train_fold, y_test_fold = y.iloc[train_index], y.iloc[test_index] \n",
    "    dtree_strat.fit(x_train_fold, y_train_fold) \n",
    "    lst_accu_stratified_test.append(dtree_strat.score(x_test_fold, y_test_fold))\n",
    "    lst_accu_stratified_train.append(dtree_strat.score(x_train_fold, y_train_fold))    "
   ]
  },
  {
   "cell_type": "code",
   "execution_count": 118,
   "id": "ecabba19",
   "metadata": {},
   "outputs": [
    {
     "name": "stdout",
     "output_type": "stream",
     "text": [
      "Maximum Accuracy 0.8777777777777778\n",
      "Minimum Accuracy: 0.7666666666666667\n",
      "Overall Accuracy: 0.8177777777777778\n"
     ]
    }
   ],
   "source": [
    "from statistics import mean\n",
    "\n",
    "print('Maximum Accuracy',max(lst_accu_stratified_test)) \n",
    "print('Minimum Accuracy:',min(lst_accu_stratified_test)) \n",
    "print('Overall Accuracy:',mean(lst_accu_stratified_test))"
   ]
  },
  {
   "cell_type": "code",
   "execution_count": 119,
   "id": "7dd94c76",
   "metadata": {},
   "outputs": [
    {
     "name": "stdout",
     "output_type": "stream",
     "text": [
      "Maximum Accuracy 1.0\n",
      "Minimum Accuracy: 1.0\n",
      "Overall Accuracy: 1.0\n"
     ]
    }
   ],
   "source": [
    "from statistics import mean\n",
    "\n",
    "print('Maximum Accuracy',max(lst_accu_stratified_train)) \n",
    "print('Minimum Accuracy:',min(lst_accu_stratified_train)) \n",
    "print('Overall Accuracy:',mean(lst_accu_stratified_train))"
   ]
  },
  {
   "cell_type": "code",
   "execution_count": 120,
   "id": "537d6018",
   "metadata": {},
   "outputs": [
    {
     "data": {
      "text/plain": [
       "[0.7666666666666667,\n",
       " 0.8777777777777778,\n",
       " 0.8111111111111111,\n",
       " 0.7888888888888889,\n",
       " 0.8555555555555555,\n",
       " 0.8111111111111111,\n",
       " 0.8222222222222222,\n",
       " 0.8333333333333334,\n",
       " 0.7666666666666667,\n",
       " 0.8444444444444444]"
      ]
     },
     "execution_count": 120,
     "metadata": {},
     "output_type": "execute_result"
    }
   ],
   "source": [
    "lst_accu_stratified_test"
   ]
  },
  {
   "cell_type": "code",
   "execution_count": 121,
   "id": "491713e9",
   "metadata": {},
   "outputs": [
    {
     "data": {
      "text/plain": [
       "[1.0, 1.0, 1.0, 1.0, 1.0, 1.0, 1.0, 1.0, 1.0, 1.0]"
      ]
     },
     "execution_count": 121,
     "metadata": {},
     "output_type": "execute_result"
    }
   ],
   "source": [
    "lst_accu_stratified_train"
   ]
  },
  {
   "cell_type": "code",
   "execution_count": 122,
   "id": "a9000cad",
   "metadata": {},
   "outputs": [
    {
     "data": {
      "image/png": "[encoded data removed]",
      "text/plain": [
       "<Figure size 1000x800 with 1 Axes>"
      ]
     },
     "metadata": {},
     "output_type": "display_data"
    }
   ],
   "source": [
    "plot_accuracy_result(\n",
    "    'Decision Tree Stratified K-Fold CV', \n",
    "    'Accuracy', \n",
    "    lst_accu_stratified_train,\n",
    "    lst_accu_stratified_test,\n",
    ")"
   ]
  },
  {
   "cell_type": "code",
   "execution_count": 128,
   "id": "e0eb3510",
   "metadata": {},
   "outputs": [],
   "source": [
    "compare_acc = [['K-Fold CV', viz_df['Score'].loc[viz_df.index[0]]],['Stratified K-Fold CV', mean(lst_accu_stratified_test)*100]]"
   ]
  },
  {
   "cell_type": "code",
   "execution_count": 129,
   "id": "dfca53cb",
   "metadata": {},
   "outputs": [
    {
     "data": {
      "text/html": [
       "<div>\n",
       "<style scoped>\n",
       "    .dataframe tbody tr th:only-of-type {\n",
       "        vertical-align: middle;\n",
       "    }\n",
       "\n",
       "    .dataframe tbody tr th {\n",
       "        vertical-align: top;\n",
       "    }\n",
       "\n",
       "    .dataframe thead th {\n",
       "        text-align: right;\n",
       "    }\n",
       "</style>\n",
       "<table border=\"1\" class=\"dataframe\">\n",
       "  <thead>\n",
       "    <tr style=\"text-align: right;\">\n",
       "      <th></th>\n",
       "      <th>CV</th>\n",
       "      <th>Accuracy</th>\n",
       "    </tr>\n",
       "  </thead>\n",
       "  <tbody>\n",
       "    <tr>\n",
       "      <th>0</th>\n",
       "      <td>K-Fold CV</td>\n",
       "      <td>80.890000</td>\n",
       "    </tr>\n",
       "    <tr>\n",
       "      <th>1</th>\n",
       "      <td>Stratified K-Fold CV</td>\n",
       "      <td>81.777778</td>\n",
       "    </tr>\n",
       "  </tbody>\n",
       "</table>\n",
       "</div>"
      ],
      "text/plain": [
       "                     CV   Accuracy\n",
       "0             K-Fold CV  80.890000\n",
       "1  Stratified K-Fold CV  81.777778"
      ]
     },
     "execution_count": 129,
     "metadata": {},
     "output_type": "execute_result"
    }
   ],
   "source": [
    "compare_acc_viz = pd.DataFrame(compare_acc, columns=['CV','Accuracy'])\n",
    "\n",
    "compare_acc_viz"
   ]
  },
  {
   "cell_type": "code",
   "execution_count": 134,
   "id": "5e4ca5b4",
   "metadata": {},
   "outputs": [
    {
     "data": {
      "text/plain": [
       "<function matplotlib.pyplot.show(close=None, block=None)>"
      ]
     },
     "execution_count": 134,
     "metadata": {},
     "output_type": "execute_result"
    },
    {
     "data": {
      "image/png": "[encoded data removed]",
      "text/plain": [
       "<Figure size 1000x800 with 1 Axes>"
      ]
     },
     "metadata": {},
     "output_type": "display_data"
    }
   ],
   "source": [
    "fig, ax = plt.subplots(figsize=(10, 8))\n",
    "\n",
    "sns.barplot(x='CV',y='Accuracy',data=compare_acc_viz, ax=ax)\n",
    "ax.set_ylim(1, 100)\n",
    "perf_levels.set(title='K-Fold CV vs Stratified K-Fold CV')\n",
    "\n",
    "for i in ax.containers:\n",
    "    ax.bar_label(i,fontsize=12)\n",
    "    \n",
    "    \n",
    "plt.show"
   ]
  },
  {
   "cell_type": "code",
   "execution_count": null,
   "id": "5dabc9fa",
   "metadata": {},
   "outputs": [],
   "source": []
  }
 ],
 "metadata": {
  "kernelspec": {
   "display_name": "Python 3 (ipykernel)",
   "language": "python",
   "name": "python3"
  },
  "language_info": {
   "codemirror_mode": {
    "name": "ipython",
    "version": 3
   },
   "file_extension": ".py",
   "mimetype": "text/x-python",
   "name": "python",
   "nbconvert_exporter": "python",
   "pygments_lexer": "ipython3",
   "version": "3.10.7"
  }
 },
 "nbformat": 4,
 "nbformat_minor": 5
}
