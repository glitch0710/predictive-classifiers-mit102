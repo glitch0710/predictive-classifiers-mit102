{
 "cells": [
  {
   "cell_type": "markdown",
   "id": "6d70180a",
   "metadata": {},
   "source": [
    "### Checking and cleaning of the dataset"
   ]
  },
  {
   "cell_type": "code",
   "execution_count": 74,
   "id": "6f22d427",
   "metadata": {},
   "outputs": [],
   "source": [
    "import pandas as pd\n",
    "import numpy as np"
   ]
  },
  {
   "cell_type": "code",
   "execution_count": 75,
   "id": "c98dc148",
   "metadata": {},
   "outputs": [],
   "source": [
    "df = pd.read_csv('Raisin_Dataset.csv')"
   ]
  },
  {
   "cell_type": "code",
   "execution_count": 76,
   "id": "e1759d1a",
   "metadata": {
    "scrolled": false
   },
   "outputs": [
    {
     "data": {
      "text/html": [
       "<div>\n",
       "<style scoped>\n",
       "    .dataframe tbody tr th:only-of-type {\n",
       "        vertical-align: middle;\n",
       "    }\n",
       "\n",
       "    .dataframe tbody tr th {\n",
       "        vertical-align: top;\n",
       "    }\n",
       "\n",
       "    .dataframe thead th {\n",
       "        text-align: right;\n",
       "    }\n",
       "</style>\n",
       "<table border=\"1\" class=\"dataframe\">\n",
       "  <thead>\n",
       "    <tr style=\"text-align: right;\">\n",
       "      <th></th>\n",
       "      <th>Area</th>\n",
       "      <th>MajorAxisLength</th>\n",
       "      <th>MinorAxisLength</th>\n",
       "      <th>Eccentricity</th>\n",
       "      <th>ConvexArea</th>\n",
       "      <th>Extent</th>\n",
       "      <th>Perimeter</th>\n",
       "      <th>Class</th>\n",
       "    </tr>\n",
       "  </thead>\n",
       "  <tbody>\n",
       "    <tr>\n",
       "      <th>0</th>\n",
       "      <td>87524</td>\n",
       "      <td>442.246011</td>\n",
       "      <td>253.291155</td>\n",
       "      <td>0.819738</td>\n",
       "      <td>90546</td>\n",
       "      <td>0.758651</td>\n",
       "      <td>1184.040</td>\n",
       "      <td>Kecimen</td>\n",
       "    </tr>\n",
       "    <tr>\n",
       "      <th>1</th>\n",
       "      <td>75166</td>\n",
       "      <td>406.690687</td>\n",
       "      <td>243.032436</td>\n",
       "      <td>0.801805</td>\n",
       "      <td>78789</td>\n",
       "      <td>0.684130</td>\n",
       "      <td>1121.786</td>\n",
       "      <td>Kecimen</td>\n",
       "    </tr>\n",
       "    <tr>\n",
       "      <th>2</th>\n",
       "      <td>90856</td>\n",
       "      <td>442.267048</td>\n",
       "      <td>266.328318</td>\n",
       "      <td>0.798354</td>\n",
       "      <td>93717</td>\n",
       "      <td>0.637613</td>\n",
       "      <td>1208.575</td>\n",
       "      <td>Kecimen</td>\n",
       "    </tr>\n",
       "    <tr>\n",
       "      <th>3</th>\n",
       "      <td>45928</td>\n",
       "      <td>286.540559</td>\n",
       "      <td>208.760042</td>\n",
       "      <td>0.684989</td>\n",
       "      <td>47336</td>\n",
       "      <td>0.699599</td>\n",
       "      <td>844.162</td>\n",
       "      <td>Kecimen</td>\n",
       "    </tr>\n",
       "    <tr>\n",
       "      <th>4</th>\n",
       "      <td>79408</td>\n",
       "      <td>352.190770</td>\n",
       "      <td>290.827533</td>\n",
       "      <td>0.564011</td>\n",
       "      <td>81463</td>\n",
       "      <td>0.792772</td>\n",
       "      <td>1073.251</td>\n",
       "      <td>Kecimen</td>\n",
       "    </tr>\n",
       "  </tbody>\n",
       "</table>\n",
       "</div>"
      ],
      "text/plain": [
       "    Area  MajorAxisLength  MinorAxisLength  Eccentricity  ConvexArea  \\\n",
       "0  87524       442.246011       253.291155      0.819738       90546   \n",
       "1  75166       406.690687       243.032436      0.801805       78789   \n",
       "2  90856       442.267048       266.328318      0.798354       93717   \n",
       "3  45928       286.540559       208.760042      0.684989       47336   \n",
       "4  79408       352.190770       290.827533      0.564011       81463   \n",
       "\n",
       "     Extent  Perimeter    Class  \n",
       "0  0.758651   1184.040  Kecimen  \n",
       "1  0.684130   1121.786  Kecimen  \n",
       "2  0.637613   1208.575  Kecimen  \n",
       "3  0.699599    844.162  Kecimen  \n",
       "4  0.792772   1073.251  Kecimen  "
      ]
     },
     "execution_count": 76,
     "metadata": {},
     "output_type": "execute_result"
    }
   ],
   "source": [
    "df.head()"
   ]
  },
  {
   "cell_type": "code",
   "execution_count": 77,
   "id": "723eb082",
   "metadata": {},
   "outputs": [],
   "source": [
    "df['Class'] = df['Class'].map({'Kecimen': 0, 'Besni': 1})"
   ]
  },
  {
   "cell_type": "code",
   "execution_count": 78,
   "id": "5a7b6f08",
   "metadata": {},
   "outputs": [
    {
     "data": {
      "text/html": [
       "<div>\n",
       "<style scoped>\n",
       "    .dataframe tbody tr th:only-of-type {\n",
       "        vertical-align: middle;\n",
       "    }\n",
       "\n",
       "    .dataframe tbody tr th {\n",
       "        vertical-align: top;\n",
       "    }\n",
       "\n",
       "    .dataframe thead th {\n",
       "        text-align: right;\n",
       "    }\n",
       "</style>\n",
       "<table border=\"1\" class=\"dataframe\">\n",
       "  <thead>\n",
       "    <tr style=\"text-align: right;\">\n",
       "      <th></th>\n",
       "      <th>Area</th>\n",
       "      <th>MajorAxisLength</th>\n",
       "      <th>MinorAxisLength</th>\n",
       "      <th>Eccentricity</th>\n",
       "      <th>ConvexArea</th>\n",
       "      <th>Extent</th>\n",
       "      <th>Perimeter</th>\n",
       "      <th>Class</th>\n",
       "    </tr>\n",
       "  </thead>\n",
       "  <tbody>\n",
       "    <tr>\n",
       "      <th>0</th>\n",
       "      <td>87524</td>\n",
       "      <td>442.246011</td>\n",
       "      <td>253.291155</td>\n",
       "      <td>0.819738</td>\n",
       "      <td>90546</td>\n",
       "      <td>0.758651</td>\n",
       "      <td>1184.040</td>\n",
       "      <td>0</td>\n",
       "    </tr>\n",
       "    <tr>\n",
       "      <th>1</th>\n",
       "      <td>75166</td>\n",
       "      <td>406.690687</td>\n",
       "      <td>243.032436</td>\n",
       "      <td>0.801805</td>\n",
       "      <td>78789</td>\n",
       "      <td>0.684130</td>\n",
       "      <td>1121.786</td>\n",
       "      <td>0</td>\n",
       "    </tr>\n",
       "    <tr>\n",
       "      <th>2</th>\n",
       "      <td>90856</td>\n",
       "      <td>442.267048</td>\n",
       "      <td>266.328318</td>\n",
       "      <td>0.798354</td>\n",
       "      <td>93717</td>\n",
       "      <td>0.637613</td>\n",
       "      <td>1208.575</td>\n",
       "      <td>0</td>\n",
       "    </tr>\n",
       "    <tr>\n",
       "      <th>3</th>\n",
       "      <td>45928</td>\n",
       "      <td>286.540559</td>\n",
       "      <td>208.760042</td>\n",
       "      <td>0.684989</td>\n",
       "      <td>47336</td>\n",
       "      <td>0.699599</td>\n",
       "      <td>844.162</td>\n",
       "      <td>0</td>\n",
       "    </tr>\n",
       "    <tr>\n",
       "      <th>4</th>\n",
       "      <td>79408</td>\n",
       "      <td>352.190770</td>\n",
       "      <td>290.827533</td>\n",
       "      <td>0.564011</td>\n",
       "      <td>81463</td>\n",
       "      <td>0.792772</td>\n",
       "      <td>1073.251</td>\n",
       "      <td>0</td>\n",
       "    </tr>\n",
       "  </tbody>\n",
       "</table>\n",
       "</div>"
      ],
      "text/plain": [
       "    Area  MajorAxisLength  MinorAxisLength  Eccentricity  ConvexArea  \\\n",
       "0  87524       442.246011       253.291155      0.819738       90546   \n",
       "1  75166       406.690687       243.032436      0.801805       78789   \n",
       "2  90856       442.267048       266.328318      0.798354       93717   \n",
       "3  45928       286.540559       208.760042      0.684989       47336   \n",
       "4  79408       352.190770       290.827533      0.564011       81463   \n",
       "\n",
       "     Extent  Perimeter  Class  \n",
       "0  0.758651   1184.040      0  \n",
       "1  0.684130   1121.786      0  \n",
       "2  0.637613   1208.575      0  \n",
       "3  0.699599    844.162      0  \n",
       "4  0.792772   1073.251      0  "
      ]
     },
     "execution_count": 78,
     "metadata": {},
     "output_type": "execute_result"
    }
   ],
   "source": [
    "df.head()"
   ]
  },
  {
   "cell_type": "code",
   "execution_count": 79,
   "id": "320b5c92",
   "metadata": {},
   "outputs": [
    {
     "data": {
      "text/plain": [
       "(900, 8)"
      ]
     },
     "execution_count": 79,
     "metadata": {},
     "output_type": "execute_result"
    }
   ],
   "source": [
    "df.shape"
   ]
  },
  {
   "cell_type": "code",
   "execution_count": 80,
   "id": "59bbab3b",
   "metadata": {
    "scrolled": true
   },
   "outputs": [
    {
     "data": {
      "text/plain": [
       "Index(['Area', 'MajorAxisLength', 'MinorAxisLength', 'Eccentricity',\n",
       "       'ConvexArea', 'Extent', 'Perimeter', 'Class'],\n",
       "      dtype='object')"
      ]
     },
     "execution_count": 80,
     "metadata": {},
     "output_type": "execute_result"
    }
   ],
   "source": [
    "df.columns"
   ]
  },
  {
   "cell_type": "code",
   "execution_count": 81,
   "id": "ac7dd650",
   "metadata": {
    "scrolled": false
   },
   "outputs": [
    {
     "name": "stdout",
     "output_type": "stream",
     "text": [
      "<class 'pandas.core.frame.DataFrame'>\n",
      "RangeIndex: 900 entries, 0 to 899\n",
      "Data columns (total 8 columns):\n",
      " #   Column           Non-Null Count  Dtype  \n",
      "---  ------           --------------  -----  \n",
      " 0   Area             900 non-null    int64  \n",
      " 1   MajorAxisLength  900 non-null    float64\n",
      " 2   MinorAxisLength  900 non-null    float64\n",
      " 3   Eccentricity     900 non-null    float64\n",
      " 4   ConvexArea       900 non-null    int64  \n",
      " 5   Extent           900 non-null    float64\n",
      " 6   Perimeter        900 non-null    float64\n",
      " 7   Class            900 non-null    int64  \n",
      "dtypes: float64(5), int64(3)\n",
      "memory usage: 56.4 KB\n"
     ]
    }
   ],
   "source": [
    "df.info()"
   ]
  },
  {
   "cell_type": "code",
   "execution_count": 82,
   "id": "06b96d08",
   "metadata": {},
   "outputs": [
    {
     "data": {
      "text/plain": [
       "Area               0\n",
       "MajorAxisLength    0\n",
       "MinorAxisLength    0\n",
       "Eccentricity       0\n",
       "ConvexArea         0\n",
       "Extent             0\n",
       "Perimeter          0\n",
       "Class              0\n",
       "dtype: int64"
      ]
     },
     "execution_count": 82,
     "metadata": {},
     "output_type": "execute_result"
    }
   ],
   "source": [
    "df.isnull().sum()"
   ]
  },
  {
   "cell_type": "markdown",
   "id": "1eb550e0",
   "metadata": {},
   "source": [
    "### Separating feature and target variables and create new DataFrames each"
   ]
  },
  {
   "cell_type": "code",
   "execution_count": 83,
   "id": "6cb10c30",
   "metadata": {},
   "outputs": [],
   "source": [
    "x = df[['Area','MajorAxisLength','MinorAxisLength','Eccentricity','ConvexArea','Extent','Perimeter']]\n",
    "y = df['Class']"
   ]
  },
  {
   "cell_type": "code",
   "execution_count": 127,
   "id": "c058f901",
   "metadata": {},
   "outputs": [],
   "source": [
    "clf_scores = []"
   ]
  },
  {
   "cell_type": "markdown",
   "id": "6b92b559",
   "metadata": {},
   "source": [
    "### Self defined functions"
   ]
  },
  {
   "cell_type": "code",
   "execution_count": 84,
   "id": "4a027c4b",
   "metadata": {},
   "outputs": [],
   "source": [
    "def percentage(ave):\n",
    "    per = ave * 100\n",
    "    return round(per, 2)"
   ]
  },
  {
   "cell_type": "code",
   "execution_count": 85,
   "id": "e7a9e2f8",
   "metadata": {},
   "outputs": [],
   "source": [
    "from sklearn.model_selection import cross_val_score\n",
    "def get_scores(classifier, scoring_method):\n",
    "    ave = cross_val_score(classifier, x, y, cv=10, scoring=scoring_method).mean()\n",
    "    return percentage(ave)"
   ]
  },
  {
   "cell_type": "markdown",
   "id": "047bfef7",
   "metadata": {},
   "source": [
    "### Decision Tree"
   ]
  },
  {
   "cell_type": "code",
   "execution_count": 86,
   "id": "4d1e18a6",
   "metadata": {},
   "outputs": [],
   "source": [
    "from sklearn.model_selection import train_test_split\n",
    "from sklearn.tree import DecisionTreeClassifier\n",
    "from sklearn import metrics\n",
    "from sklearn.metrics import recall_score, make_scorer"
   ]
  },
  {
   "cell_type": "code",
   "execution_count": 115,
   "id": "d939fccf",
   "metadata": {},
   "outputs": [],
   "source": [
    "dtree = DecisionTreeClassifier()"
   ]
  },
  {
   "cell_type": "code",
   "execution_count": 128,
   "id": "a284e996",
   "metadata": {},
   "outputs": [
    {
     "name": "stdout",
     "output_type": "stream",
     "text": [
      "[['DT', 81.33, 80.89, 80.86, 80.29, 82.0, 80.22]]\n"
     ]
    }
   ],
   "source": [
    "accuracy = get_scores(dtree, 'accuracy')\n",
    "recall = get_scores(dtree, 'recall')\n",
    "precision = get_scores(dtree, 'precision')\n",
    "f1 = get_scores(dtree, 'f1')\n",
    "\n",
    "specificity = make_scorer(recall_score, pos_label=0)\n",
    "specificity_score = get_scores(dtree, specificity)\n",
    "\n",
    "sensitivity = make_scorer(recall_score, pos_label=1)\n",
    "sensitivity_score = get_scores(dtree, sensitivity)\n",
    "\n",
    "clf_scores.append(['DT', accuracy, recall, precision, f1, specificity_score, sensitivity_score])\n",
    "print(clf_scores)"
   ]
  },
  {
   "cell_type": "markdown",
   "id": "97dacf95",
   "metadata": {},
   "source": [
    "### Random Forest"
   ]
  },
  {
   "cell_type": "code",
   "execution_count": 129,
   "id": "bb57b022",
   "metadata": {},
   "outputs": [],
   "source": [
    "from sklearn.ensemble import RandomForestClassifier\n",
    "\n",
    "rf = RandomForestClassifier(n_estimators=10, max_depth=5, random_state=1)"
   ]
  },
  {
   "cell_type": "code",
   "execution_count": 130,
   "id": "af5e978c",
   "metadata": {},
   "outputs": [
    {
     "name": "stdout",
     "output_type": "stream",
     "text": [
      "[['DT', 81.33, 80.89, 80.86, 80.29, 82.0, 80.22], ['RF', 86.67, 84.44, 88.53, 86.25, 88.89, 84.44]]\n"
     ]
    }
   ],
   "source": [
    "accuracy = get_scores(rf, 'accuracy')\n",
    "recall = get_scores(rf, 'recall')\n",
    "precision = get_scores(rf, 'precision')\n",
    "f1 = get_scores(rf, 'f1')\n",
    "\n",
    "specificity = make_scorer(recall_score, pos_label=0)\n",
    "specificity_score = get_scores(rf, specificity)\n",
    "\n",
    "sensitivity = make_scorer(recall_score, pos_label=1)\n",
    "sensitivity_score = get_scores(rf, sensitivity)\n",
    "\n",
    "clf_scores.append(['RF', accuracy, recall, precision, f1, specificity_score, sensitivity_score])\n",
    "print(clf_scores)"
   ]
  },
  {
   "cell_type": "markdown",
   "id": "a7fa0c11",
   "metadata": {},
   "source": [
    "### K-nearest Neighbor (kNN)"
   ]
  },
  {
   "cell_type": "code",
   "execution_count": 100,
   "id": "bbc39217",
   "metadata": {},
   "outputs": [],
   "source": [
    "from sklearn.neighbors import KNeighborsClassifier\n",
    "\n",
    "knn = KNeighborsClassifier(n_neighbors=10)"
   ]
  },
  {
   "cell_type": "code",
   "execution_count": 101,
   "id": "013f273a",
   "metadata": {},
   "outputs": [
    {
     "name": "stdout",
     "output_type": "stream",
     "text": [
      "83.44\n"
     ]
    }
   ],
   "source": [
    "ave = cross_val_score(knn, x, y, cv=10, scoring='accuracy').mean()\n",
    "print(percentage(ave))"
   ]
  },
  {
   "cell_type": "code",
   "execution_count": 102,
   "id": "2ff2370b",
   "metadata": {},
   "outputs": [
    {
     "name": "stdout",
     "output_type": "stream",
     "text": [
      "76.0\n"
     ]
    }
   ],
   "source": [
    "ave = cross_val_score(knn, x, y, cv=10, scoring='recall').mean()\n",
    "print(percentage(ave))"
   ]
  },
  {
   "cell_type": "code",
   "execution_count": 103,
   "id": "7a1b1181",
   "metadata": {},
   "outputs": [
    {
     "name": "stdout",
     "output_type": "stream",
     "text": [
      "89.47\n"
     ]
    }
   ],
   "source": [
    "ave = cross_val_score(knn, x, y, cv=10, scoring='precision').mean()\n",
    "print(percentage(ave))"
   ]
  },
  {
   "cell_type": "code",
   "execution_count": 104,
   "id": "d0955f2b",
   "metadata": {},
   "outputs": [
    {
     "name": "stdout",
     "output_type": "stream",
     "text": [
      "82.07\n"
     ]
    }
   ],
   "source": [
    "ave = cross_val_score(knn, x, y, cv=10, scoring='f1').mean()\n",
    "print(percentage(ave))"
   ]
  },
  {
   "cell_type": "code",
   "execution_count": 105,
   "id": "c240c40f",
   "metadata": {},
   "outputs": [
    {
     "name": "stdout",
     "output_type": "stream",
     "text": [
      "90.89\n"
     ]
    }
   ],
   "source": [
    "specificity = make_scorer(recall_score, pos_label=0)\n",
    "ave = cross_val_score(knn, x, y, cv=10, scoring=specificity).mean()\n",
    "print(percentage(ave))"
   ]
  },
  {
   "cell_type": "code",
   "execution_count": 106,
   "id": "5c7f89a9",
   "metadata": {},
   "outputs": [
    {
     "name": "stdout",
     "output_type": "stream",
     "text": [
      "76.0\n"
     ]
    }
   ],
   "source": [
    "sensitivity = make_scorer(recall_score, pos_label=1)\n",
    "ave = cross_val_score(knn, x, y, cv=10, scoring=sensitivity).mean()\n",
    "print(percentage(ave))"
   ]
  },
  {
   "cell_type": "markdown",
   "id": "b94d3478",
   "metadata": {},
   "source": [
    "### Regularized Logistic Regression"
   ]
  },
  {
   "cell_type": "code",
   "execution_count": 107,
   "id": "24236d27",
   "metadata": {},
   "outputs": [],
   "source": [
    "from sklearn.linear_model import LogisticRegression\n",
    "from sklearn.preprocessing import StandardScaler\n",
    "from sklearn.pipeline import Pipeline\n",
    "\n",
    "lr2 = LogisticRegression(C=0.01)"
   ]
  },
  {
   "cell_type": "code",
   "execution_count": 108,
   "id": "989ecf74",
   "metadata": {},
   "outputs": [
    {
     "name": "stdout",
     "output_type": "stream",
     "text": [
      "86.56\n"
     ]
    }
   ],
   "source": [
    "scaler = StandardScaler()\n",
    "\n",
    "pipeline = Pipeline([('transformer', scaler), ('estimator', lr2)])\n",
    "\n",
    "accuracy = get_scores(pipeline, 'accuracy')\n",
    "print(accuracy)"
   ]
  },
  {
   "cell_type": "code",
   "execution_count": 109,
   "id": "556859a4",
   "metadata": {},
   "outputs": [
    {
     "name": "stdout",
     "output_type": "stream",
     "text": [
      "83.33\n"
     ]
    }
   ],
   "source": [
    "recall = get_scores(pipeline, 'recall')\n",
    "print(recall)"
   ]
  },
  {
   "cell_type": "code",
   "execution_count": 110,
   "id": "f331d0e9",
   "metadata": {},
   "outputs": [
    {
     "name": "stdout",
     "output_type": "stream",
     "text": [
      "89.14\n"
     ]
    }
   ],
   "source": [
    "precision = get_scores(pipeline, 'precision')\n",
    "print(precision)"
   ]
  },
  {
   "cell_type": "code",
   "execution_count": 111,
   "id": "2d87e355",
   "metadata": {},
   "outputs": [
    {
     "name": "stdout",
     "output_type": "stream",
     "text": [
      "86.02\n"
     ]
    }
   ],
   "source": [
    "f1 = get_scores(pipeline, 'f1')\n",
    "print(f1)"
   ]
  },
  {
   "cell_type": "code",
   "execution_count": 112,
   "id": "3d8ef0f0",
   "metadata": {},
   "outputs": [
    {
     "name": "stdout",
     "output_type": "stream",
     "text": [
      "89.78\n"
     ]
    }
   ],
   "source": [
    "specificity = make_scorer(recall_score, pos_label=0)\n",
    "specificity_score = get_scores(pipeline, specificity)\n",
    "print(specificity_score)"
   ]
  },
  {
   "cell_type": "code",
   "execution_count": 113,
   "id": "e3f95bf4",
   "metadata": {},
   "outputs": [
    {
     "name": "stdout",
     "output_type": "stream",
     "text": [
      "83.33\n"
     ]
    }
   ],
   "source": [
    "sensitivity = make_scorer(recall_score, pos_label=1)\n",
    "sensitivity_score = get_scores(pipeline, sensitivity)\n",
    "print(sensitivity_score)"
   ]
  },
  {
   "cell_type": "markdown",
   "id": "d7a18c9f",
   "metadata": {},
   "source": [
    "### Support Vector Machine"
   ]
  },
  {
   "cell_type": "code",
   "execution_count": 34,
   "id": "cebe50a3",
   "metadata": {},
   "outputs": [],
   "source": [
    "from sklearn import svm\n",
    "\n",
    "sv_clf = svm.SVC(kernel='linear', C=1, random_state=1)"
   ]
  },
  {
   "cell_type": "code",
   "execution_count": 35,
   "id": "8a2b36a4",
   "metadata": {},
   "outputs": [
    {
     "name": "stdout",
     "output_type": "stream",
     "text": [
      "85.67\n"
     ]
    }
   ],
   "source": [
    "ave = cross_val_score(sv_clf, x, y, cv=10, scoring='accuracy').mean()\n",
    "print(percentage(ave))"
   ]
  },
  {
   "cell_type": "code",
   "execution_count": 36,
   "id": "88516194",
   "metadata": {},
   "outputs": [
    {
     "name": "stdout",
     "output_type": "stream",
     "text": [
      "86.22\n"
     ]
    }
   ],
   "source": [
    "ave = cross_val_score(sv_clf, x, y, cv=10, scoring='recall').mean()\n",
    "print(percentage(ave))"
   ]
  },
  {
   "cell_type": "code",
   "execution_count": 40,
   "id": "4b1ff2db",
   "metadata": {},
   "outputs": [
    {
     "name": "stdout",
     "output_type": "stream",
     "text": [
      "85.63\n"
     ]
    }
   ],
   "source": [
    "ave = cross_val_score(sv_clf, x, y, cv=10, scoring='f1').mean()\n",
    "print(percentage(ave))"
   ]
  },
  {
   "cell_type": "code",
   "execution_count": 41,
   "id": "9cb5ea9a",
   "metadata": {},
   "outputs": [
    {
     "name": "stdout",
     "output_type": "stream",
     "text": [
      "85.11\n"
     ]
    }
   ],
   "source": [
    "specificity = make_scorer(recall_score, pos_label=0)\n",
    "ave = cross_val_score(sv_clf, x, y, cv=10, scoring=specificity).mean()\n",
    "print(percentage(ave))"
   ]
  },
  {
   "cell_type": "code",
   "execution_count": 42,
   "id": "5f0c4d83",
   "metadata": {},
   "outputs": [
    {
     "name": "stdout",
     "output_type": "stream",
     "text": [
      "85.11\n"
     ]
    }
   ],
   "source": [
    "specificity = make_scorer(recall_score, pos_label=0)\n",
    "ave = cross_val_score(sv_clf, x, y, cv=10, scoring=specificity).mean()\n",
    "print(percentage(ave))"
   ]
  },
  {
   "cell_type": "code",
   "execution_count": null,
   "id": "664acbba",
   "metadata": {},
   "outputs": [],
   "source": []
  }
 ],
 "metadata": {
  "kernelspec": {
   "display_name": "Python 3 (ipykernel)",
   "language": "python",
   "name": "python3"
  },
  "language_info": {
   "codemirror_mode": {
    "name": "ipython",
    "version": 3
   },
   "file_extension": ".py",
   "mimetype": "text/x-python",
   "name": "python",
   "nbconvert_exporter": "python",
   "pygments_lexer": "ipython3",
   "version": "3.10.7"
  }
 },
 "nbformat": 4,
 "nbformat_minor": 5
}
