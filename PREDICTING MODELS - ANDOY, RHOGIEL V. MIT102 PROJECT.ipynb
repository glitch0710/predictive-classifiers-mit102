{
 "cells": [
  {
   "cell_type": "markdown",
   "id": "6d70180a",
   "metadata": {},
   "source": [
    "### Checking and cleaning of the dataset"
   ]
  },
  {
   "cell_type": "code",
   "execution_count": 74,
   "id": "6f22d427",
   "metadata": {},
   "outputs": [],
   "source": [
    "import pandas as pd\n",
    "import numpy as np"
   ]
  },
  {
   "cell_type": "code",
   "execution_count": 75,
   "id": "c98dc148",
   "metadata": {},
   "outputs": [],
   "source": [
    "df = pd.read_csv('Raisin_Dataset.csv')"
   ]
  },
  {
   "cell_type": "code",
   "execution_count": 76,
   "id": "e1759d1a",
   "metadata": {
    "scrolled": false
   },
   "outputs": [
    {
     "data": {
      "text/html": [
       "<div>\n",
       "<style scoped>\n",
       "    .dataframe tbody tr th:only-of-type {\n",
       "        vertical-align: middle;\n",
       "    }\n",
       "\n",
       "    .dataframe tbody tr th {\n",
       "        vertical-align: top;\n",
       "    }\n",
       "\n",
       "    .dataframe thead th {\n",
       "        text-align: right;\n",
       "    }\n",
       "</style>\n",
       "<table border=\"1\" class=\"dataframe\">\n",
       "  <thead>\n",
       "    <tr style=\"text-align: right;\">\n",
       "      <th></th>\n",
       "      <th>Area</th>\n",
       "      <th>MajorAxisLength</th>\n",
       "      <th>MinorAxisLength</th>\n",
       "      <th>Eccentricity</th>\n",
       "      <th>ConvexArea</th>\n",
       "      <th>Extent</th>\n",
       "      <th>Perimeter</th>\n",
       "      <th>Class</th>\n",
       "    </tr>\n",
       "  </thead>\n",
       "  <tbody>\n",
       "    <tr>\n",
       "      <th>0</th>\n",
       "      <td>87524</td>\n",
       "      <td>442.246011</td>\n",
       "      <td>253.291155</td>\n",
       "      <td>0.819738</td>\n",
       "      <td>90546</td>\n",
       "      <td>0.758651</td>\n",
       "      <td>1184.040</td>\n",
       "      <td>Kecimen</td>\n",
       "    </tr>\n",
       "    <tr>\n",
       "      <th>1</th>\n",
       "      <td>75166</td>\n",
       "      <td>406.690687</td>\n",
       "      <td>243.032436</td>\n",
       "      <td>0.801805</td>\n",
       "      <td>78789</td>\n",
       "      <td>0.684130</td>\n",
       "      <td>1121.786</td>\n",
       "      <td>Kecimen</td>\n",
       "    </tr>\n",
       "    <tr>\n",
       "      <th>2</th>\n",
       "      <td>90856</td>\n",
       "      <td>442.267048</td>\n",
       "      <td>266.328318</td>\n",
       "      <td>0.798354</td>\n",
       "      <td>93717</td>\n",
       "      <td>0.637613</td>\n",
       "      <td>1208.575</td>\n",
       "      <td>Kecimen</td>\n",
       "    </tr>\n",
       "    <tr>\n",
       "      <th>3</th>\n",
       "      <td>45928</td>\n",
       "      <td>286.540559</td>\n",
       "      <td>208.760042</td>\n",
       "      <td>0.684989</td>\n",
       "      <td>47336</td>\n",
       "      <td>0.699599</td>\n",
       "      <td>844.162</td>\n",
       "      <td>Kecimen</td>\n",
       "    </tr>\n",
       "    <tr>\n",
       "      <th>4</th>\n",
       "      <td>79408</td>\n",
       "      <td>352.190770</td>\n",
       "      <td>290.827533</td>\n",
       "      <td>0.564011</td>\n",
       "      <td>81463</td>\n",
       "      <td>0.792772</td>\n",
       "      <td>1073.251</td>\n",
       "      <td>Kecimen</td>\n",
       "    </tr>\n",
       "  </tbody>\n",
       "</table>\n",
       "</div>"
      ],
      "text/plain": [
       "    Area  MajorAxisLength  MinorAxisLength  Eccentricity  ConvexArea  \\\n",
       "0  87524       442.246011       253.291155      0.819738       90546   \n",
       "1  75166       406.690687       243.032436      0.801805       78789   \n",
       "2  90856       442.267048       266.328318      0.798354       93717   \n",
       "3  45928       286.540559       208.760042      0.684989       47336   \n",
       "4  79408       352.190770       290.827533      0.564011       81463   \n",
       "\n",
       "     Extent  Perimeter    Class  \n",
       "0  0.758651   1184.040  Kecimen  \n",
       "1  0.684130   1121.786  Kecimen  \n",
       "2  0.637613   1208.575  Kecimen  \n",
       "3  0.699599    844.162  Kecimen  \n",
       "4  0.792772   1073.251  Kecimen  "
      ]
     },
     "execution_count": 76,
     "metadata": {},
     "output_type": "execute_result"
    }
   ],
   "source": [
    "df.head()"
   ]
  },
  {
   "cell_type": "code",
   "execution_count": 77,
   "id": "723eb082",
   "metadata": {},
   "outputs": [],
   "source": [
    "df['Class'] = df['Class'].map({'Kecimen': 0, 'Besni': 1})"
   ]
  },
  {
   "cell_type": "code",
   "execution_count": 78,
   "id": "5a7b6f08",
   "metadata": {},
   "outputs": [
    {
     "data": {
      "text/html": [
       "<div>\n",
       "<style scoped>\n",
       "    .dataframe tbody tr th:only-of-type {\n",
       "        vertical-align: middle;\n",
       "    }\n",
       "\n",
       "    .dataframe tbody tr th {\n",
       "        vertical-align: top;\n",
       "    }\n",
       "\n",
       "    .dataframe thead th {\n",
       "        text-align: right;\n",
       "    }\n",
       "</style>\n",
       "<table border=\"1\" class=\"dataframe\">\n",
       "  <thead>\n",
       "    <tr style=\"text-align: right;\">\n",
       "      <th></th>\n",
       "      <th>Area</th>\n",
       "      <th>MajorAxisLength</th>\n",
       "      <th>MinorAxisLength</th>\n",
       "      <th>Eccentricity</th>\n",
       "      <th>ConvexArea</th>\n",
       "      <th>Extent</th>\n",
       "      <th>Perimeter</th>\n",
       "      <th>Class</th>\n",
       "    </tr>\n",
       "  </thead>\n",
       "  <tbody>\n",
       "    <tr>\n",
       "      <th>0</th>\n",
       "      <td>87524</td>\n",
       "      <td>442.246011</td>\n",
       "      <td>253.291155</td>\n",
       "      <td>0.819738</td>\n",
       "      <td>90546</td>\n",
       "      <td>0.758651</td>\n",
       "      <td>1184.040</td>\n",
       "      <td>0</td>\n",
       "    </tr>\n",
       "    <tr>\n",
       "      <th>1</th>\n",
       "      <td>75166</td>\n",
       "      <td>406.690687</td>\n",
       "      <td>243.032436</td>\n",
       "      <td>0.801805</td>\n",
       "      <td>78789</td>\n",
       "      <td>0.684130</td>\n",
       "      <td>1121.786</td>\n",
       "      <td>0</td>\n",
       "    </tr>\n",
       "    <tr>\n",
       "      <th>2</th>\n",
       "      <td>90856</td>\n",
       "      <td>442.267048</td>\n",
       "      <td>266.328318</td>\n",
       "      <td>0.798354</td>\n",
       "      <td>93717</td>\n",
       "      <td>0.637613</td>\n",
       "      <td>1208.575</td>\n",
       "      <td>0</td>\n",
       "    </tr>\n",
       "    <tr>\n",
       "      <th>3</th>\n",
       "      <td>45928</td>\n",
       "      <td>286.540559</td>\n",
       "      <td>208.760042</td>\n",
       "      <td>0.684989</td>\n",
       "      <td>47336</td>\n",
       "      <td>0.699599</td>\n",
       "      <td>844.162</td>\n",
       "      <td>0</td>\n",
       "    </tr>\n",
       "    <tr>\n",
       "      <th>4</th>\n",
       "      <td>79408</td>\n",
       "      <td>352.190770</td>\n",
       "      <td>290.827533</td>\n",
       "      <td>0.564011</td>\n",
       "      <td>81463</td>\n",
       "      <td>0.792772</td>\n",
       "      <td>1073.251</td>\n",
       "      <td>0</td>\n",
       "    </tr>\n",
       "  </tbody>\n",
       "</table>\n",
       "</div>"
      ],
      "text/plain": [
       "    Area  MajorAxisLength  MinorAxisLength  Eccentricity  ConvexArea  \\\n",
       "0  87524       442.246011       253.291155      0.819738       90546   \n",
       "1  75166       406.690687       243.032436      0.801805       78789   \n",
       "2  90856       442.267048       266.328318      0.798354       93717   \n",
       "3  45928       286.540559       208.760042      0.684989       47336   \n",
       "4  79408       352.190770       290.827533      0.564011       81463   \n",
       "\n",
       "     Extent  Perimeter  Class  \n",
       "0  0.758651   1184.040      0  \n",
       "1  0.684130   1121.786      0  \n",
       "2  0.637613   1208.575      0  \n",
       "3  0.699599    844.162      0  \n",
       "4  0.792772   1073.251      0  "
      ]
     },
     "execution_count": 78,
     "metadata": {},
     "output_type": "execute_result"
    }
   ],
   "source": [
    "df.head()"
   ]
  },
  {
   "cell_type": "code",
   "execution_count": 79,
   "id": "320b5c92",
   "metadata": {},
   "outputs": [
    {
     "data": {
      "text/plain": [
       "(900, 8)"
      ]
     },
     "execution_count": 79,
     "metadata": {},
     "output_type": "execute_result"
    }
   ],
   "source": [
    "df.shape"
   ]
  },
  {
   "cell_type": "code",
   "execution_count": 80,
   "id": "59bbab3b",
   "metadata": {
    "scrolled": true
   },
   "outputs": [
    {
     "data": {
      "text/plain": [
       "Index(['Area', 'MajorAxisLength', 'MinorAxisLength', 'Eccentricity',\n",
       "       'ConvexArea', 'Extent', 'Perimeter', 'Class'],\n",
       "      dtype='object')"
      ]
     },
     "execution_count": 80,
     "metadata": {},
     "output_type": "execute_result"
    }
   ],
   "source": [
    "df.columns"
   ]
  },
  {
   "cell_type": "code",
   "execution_count": 81,
   "id": "ac7dd650",
   "metadata": {
    "scrolled": false
   },
   "outputs": [
    {
     "name": "stdout",
     "output_type": "stream",
     "text": [
      "<class 'pandas.core.frame.DataFrame'>\n",
      "RangeIndex: 900 entries, 0 to 899\n",
      "Data columns (total 8 columns):\n",
      " #   Column           Non-Null Count  Dtype  \n",
      "---  ------           --------------  -----  \n",
      " 0   Area             900 non-null    int64  \n",
      " 1   MajorAxisLength  900 non-null    float64\n",
      " 2   MinorAxisLength  900 non-null    float64\n",
      " 3   Eccentricity     900 non-null    float64\n",
      " 4   ConvexArea       900 non-null    int64  \n",
      " 5   Extent           900 non-null    float64\n",
      " 6   Perimeter        900 non-null    float64\n",
      " 7   Class            900 non-null    int64  \n",
      "dtypes: float64(5), int64(3)\n",
      "memory usage: 56.4 KB\n"
     ]
    }
   ],
   "source": [
    "df.info()"
   ]
  },
  {
   "cell_type": "code",
   "execution_count": 82,
   "id": "06b96d08",
   "metadata": {},
   "outputs": [
    {
     "data": {
      "text/plain": [
       "Area               0\n",
       "MajorAxisLength    0\n",
       "MinorAxisLength    0\n",
       "Eccentricity       0\n",
       "ConvexArea         0\n",
       "Extent             0\n",
       "Perimeter          0\n",
       "Class              0\n",
       "dtype: int64"
      ]
     },
     "execution_count": 82,
     "metadata": {},
     "output_type": "execute_result"
    }
   ],
   "source": [
    "df.isnull().sum()"
   ]
  },
  {
   "cell_type": "markdown",
   "id": "1eb550e0",
   "metadata": {},
   "source": [
    "### Separating feature and target variables and create new DataFrames each"
   ]
  },
  {
   "cell_type": "code",
   "execution_count": 83,
   "id": "6cb10c30",
   "metadata": {},
   "outputs": [],
   "source": [
    "x = df[['Area','MajorAxisLength','MinorAxisLength','Eccentricity','ConvexArea','Extent','Perimeter']]\n",
    "y = df['Class']"
   ]
  },
  {
   "cell_type": "code",
   "execution_count": 153,
   "id": "20d04aae",
   "metadata": {},
   "outputs": [],
   "source": [
    "clf_scores = []"
   ]
  },
  {
   "cell_type": "markdown",
   "id": "d1648a0a",
   "metadata": {},
   "source": [
    "### Self defined functions"
   ]
  },
  {
   "cell_type": "code",
   "execution_count": 154,
   "id": "4a027c4b",
   "metadata": {},
   "outputs": [],
   "source": [
    "def percentage(ave):\n",
    "    per = ave * 100\n",
    "    return round(per, 2)"
   ]
  },
  {
   "cell_type": "code",
   "execution_count": 155,
   "id": "ccaf49b9",
   "metadata": {},
   "outputs": [],
   "source": [
    "from sklearn.model_selection import cross_val_score\n",
    "def get_scores(classifier, scoring_method):\n",
    "    ave = cross_val_score(classifier, x, y, cv=10, scoring=scoring_method).mean()\n",
    "    return percentage(ave)"
   ]
  },
  {
   "cell_type": "markdown",
   "id": "047bfef7",
   "metadata": {},
   "source": [
    "### Decision Tree"
   ]
  },
  {
   "cell_type": "code",
   "execution_count": 156,
   "id": "4d1e18a6",
   "metadata": {},
   "outputs": [],
   "source": [
    "from sklearn.model_selection import train_test_split\n",
    "from sklearn.tree import DecisionTreeClassifier\n",
    "from sklearn import metrics\n",
    "from sklearn.metrics import recall_score, make_scorer"
   ]
  },
  {
   "cell_type": "code",
   "execution_count": 157,
   "id": "d939fccf",
   "metadata": {},
   "outputs": [],
   "source": [
    "dtree = DecisionTreeClassifier()"
   ]
  },
  {
   "cell_type": "code",
   "execution_count": 158,
   "id": "2e120a81",
   "metadata": {},
   "outputs": [],
   "source": [
    "accuracy = get_scores(dtree, 'accuracy')\n",
    "recall = get_scores(dtree, 'recall')\n",
    "precision = get_scores(dtree, 'precision')\n",
    "f1 = get_scores(dtree, 'f1')\n",
    "\n",
    "specificity = make_scorer(recall_score, pos_label=0)\n",
    "specificity_score = get_scores(dtree, specificity)\n",
    "\n",
    "sensitivity = make_scorer(recall_score, pos_label=1)\n",
    "sensitivity_score = get_scores(dtree, sensitivity)"
   ]
  },
  {
   "cell_type": "code",
   "execution_count": 159,
   "id": "3e3b3b1c",
   "metadata": {},
   "outputs": [
    {
     "name": "stdout",
     "output_type": "stream",
     "text": [
      "[['DT', 'Accuracy', 81.78], ['DT', 'Recall', 81.11], ['DT', 'Precision', 82.96], ['DT', 'F1-Score', 81.39], ['DT', 'Specificity', 81.56], ['DT', 'Sensitivity', 79.11]]\n"
     ]
    }
   ],
   "source": [
    "clf_scores.append(['DT', 'Accuracy', accuracy])\n",
    "clf_scores.append(['DT', 'Recall', recall])\n",
    "clf_scores.append(['DT', 'Precision', precision])\n",
    "clf_scores.append(['DT', 'F1-Score', f1])\n",
    "clf_scores.append(['DT', 'Specificity', specificity_score])\n",
    "clf_scores.append(['DT', 'Sensitivity', sensitivity_score])\n",
    "print(clf_scores)"
   ]
  },
  {
   "cell_type": "markdown",
   "id": "97dacf95",
   "metadata": {},
   "source": [
    "### Random Forest"
   ]
  },
  {
   "cell_type": "code",
   "execution_count": 160,
   "id": "bb57b022",
   "metadata": {},
   "outputs": [],
   "source": [
    "from sklearn.ensemble import RandomForestClassifier\n",
    "\n",
    "rf = RandomForestClassifier(n_estimators=10, max_depth=5, random_state=1)"
   ]
  },
  {
   "cell_type": "code",
   "execution_count": 161,
   "id": "031808d2",
   "metadata": {},
   "outputs": [],
   "source": [
    "accuracy = get_scores(rf, 'accuracy')\n",
    "recall = get_scores(rf, 'recall')\n",
    "precision = get_scores(rf, 'precision')\n",
    "f1 = get_scores(rf, 'f1')\n",
    "\n",
    "specificity = make_scorer(recall_score, pos_label=0)\n",
    "specificity_score = get_scores(rf, specificity)\n",
    "\n",
    "sensitivity = make_scorer(recall_score, pos_label=1)\n",
    "sensitivity_score = get_scores(rf, sensitivity)"
   ]
  },
  {
   "cell_type": "code",
   "execution_count": 162,
   "id": "a5597825",
   "metadata": {},
   "outputs": [
    {
     "name": "stdout",
     "output_type": "stream",
     "text": [
      "[['DT', 'Accuracy', 81.78], ['DT', 'Recall', 81.11], ['DT', 'Precision', 82.96], ['DT', 'F1-Score', 81.39], ['DT', 'Specificity', 81.56], ['DT', 'Sensitivity', 79.11], ['RF', 'Accuracy', 86.67], ['RF', 'Recall', 84.44], ['RF', 'Precision', 88.53], ['RF', 'F1-Score', 86.25], ['RF', 'Specificity', 88.89], ['RF', 'Sensitivity', 84.44]]\n"
     ]
    }
   ],
   "source": [
    "clf_scores.append(['RF', 'Accuracy', accuracy])\n",
    "clf_scores.append(['RF', 'Recall', recall])\n",
    "clf_scores.append(['RF', 'Precision', precision])\n",
    "clf_scores.append(['RF', 'F1-Score', f1])\n",
    "clf_scores.append(['RF', 'Specificity', specificity_score])\n",
    "clf_scores.append(['RF', 'Sensitivity', sensitivity_score])\n",
    "print(clf_scores)"
   ]
  },
  {
   "cell_type": "markdown",
   "id": "a7fa0c11",
   "metadata": {},
   "source": [
    "### K-nearest Neighbor (kNN)"
   ]
  },
  {
   "cell_type": "code",
   "execution_count": 163,
   "id": "bbc39217",
   "metadata": {},
   "outputs": [],
   "source": [
    "from sklearn.neighbors import KNeighborsClassifier\n",
    "\n",
    "knn = KNeighborsClassifier(n_neighbors=10)"
   ]
  },
  {
   "cell_type": "code",
   "execution_count": 164,
   "id": "4b779cd5",
   "metadata": {},
   "outputs": [],
   "source": [
    "accuracy = get_scores(knn, 'accuracy')\n",
    "recall = get_scores(knn, 'recall')\n",
    "precision = get_scores(knn, 'precision')\n",
    "f1 = get_scores(knn, 'f1')\n",
    "\n",
    "specificity = make_scorer(recall_score, pos_label=0)\n",
    "specificity_score = get_scores(knn, specificity)\n",
    "\n",
    "sensitivity = make_scorer(recall_score, pos_label=1)\n",
    "sensitivity_score = get_scores(knn, sensitivity)"
   ]
  },
  {
   "cell_type": "code",
   "execution_count": 165,
   "id": "c0a97fef",
   "metadata": {},
   "outputs": [
    {
     "name": "stdout",
     "output_type": "stream",
     "text": [
      "[['DT', 'Accuracy', 81.78], ['DT', 'Recall', 81.11], ['DT', 'Precision', 82.96], ['DT', 'F1-Score', 81.39], ['DT', 'Specificity', 81.56], ['DT', 'Sensitivity', 79.11], ['RF', 'Accuracy', 86.67], ['RF', 'Recall', 84.44], ['RF', 'Precision', 88.53], ['RF', 'F1-Score', 86.25], ['RF', 'Specificity', 88.89], ['RF', 'Sensitivity', 84.44], ['KNN', 'Accuracy', 83.44], ['KNN', 'Recall', 76.0], ['KNN', 'Precision', 89.47], ['KNN', 'F1-Score', 82.07], ['KNN', 'Specificity', 90.89], ['KNN', 'Sensitivity', 76.0]]\n"
     ]
    }
   ],
   "source": [
    "clf_scores.append(['KNN', 'Accuracy', accuracy])\n",
    "clf_scores.append(['KNN', 'Recall', recall])\n",
    "clf_scores.append(['KNN', 'Precision', precision])\n",
    "clf_scores.append(['KNN', 'F1-Score', f1])\n",
    "clf_scores.append(['KNN', 'Specificity', specificity_score])\n",
    "clf_scores.append(['KNN', 'Sensitivity', sensitivity_score])\n",
    "print(clf_scores)"
   ]
  },
  {
   "cell_type": "markdown",
   "id": "1349ef75",
   "metadata": {},
   "source": [
    "### Regularized Logistic Regression"
   ]
  },
  {
   "cell_type": "code",
   "execution_count": 166,
   "id": "90d7ac6a",
   "metadata": {},
   "outputs": [],
   "source": [
    "from sklearn.linear_model import LogisticRegression\n",
    "from sklearn.preprocessing import StandardScaler\n",
    "from sklearn.pipeline import Pipeline\n",
    "\n",
    "lr2 = LogisticRegression(C=0.01)"
   ]
  },
  {
   "cell_type": "code",
   "execution_count": 167,
   "id": "1eef3163",
   "metadata": {},
   "outputs": [],
   "source": [
    "scaler = StandardScaler()\n",
    "\n",
    "pipeline = Pipeline([('transformer', scaler), ('estimator', lr2)])"
   ]
  },
  {
   "cell_type": "code",
   "execution_count": 168,
   "id": "b2d11359",
   "metadata": {},
   "outputs": [],
   "source": [
    "accuracy = get_scores(pipeline, 'accuracy')\n",
    "recall = get_scores(pipeline, 'recall')\n",
    "precision = get_scores(pipeline, 'precision')\n",
    "f1 = get_scores(pipeline, 'f1')\n",
    "\n",
    "specificity = make_scorer(recall_score, pos_label=0)\n",
    "specificity_score = get_scores(pipeline, specificity)\n",
    "\n",
    "sensitivity = make_scorer(recall_score, pos_label=1)\n",
    "sensitivity_score = get_scores(pipeline, sensitivity)"
   ]
  },
  {
   "cell_type": "code",
   "execution_count": 169,
   "id": "65b15766",
   "metadata": {},
   "outputs": [
    {
     "name": "stdout",
     "output_type": "stream",
     "text": [
      "[['DT', 'Accuracy', 81.78], ['DT', 'Recall', 81.11], ['DT', 'Precision', 82.96], ['DT', 'F1-Score', 81.39], ['DT', 'Specificity', 81.56], ['DT', 'Sensitivity', 79.11], ['RF', 'Accuracy', 86.67], ['RF', 'Recall', 84.44], ['RF', 'Precision', 88.53], ['RF', 'F1-Score', 86.25], ['RF', 'Specificity', 88.89], ['RF', 'Sensitivity', 84.44], ['KNN', 'Accuracy', 83.44], ['KNN', 'Recall', 76.0], ['KNN', 'Precision', 89.47], ['KNN', 'F1-Score', 82.07], ['KNN', 'Specificity', 90.89], ['KNN', 'Sensitivity', 76.0], ['LR', 'Accuracy', 86.56], ['LR', 'Recall', 83.33], ['LR', 'Precision', 89.14], ['LR', 'F1-Score', 86.02], ['LR', 'Specificity', 89.78], ['LR', 'Sensitivity', 83.33]]\n"
     ]
    }
   ],
   "source": [
    "clf_scores.append(['LR', 'Accuracy', accuracy])\n",
    "clf_scores.append(['LR', 'Recall', recall])\n",
    "clf_scores.append(['LR', 'Precision', precision])\n",
    "clf_scores.append(['LR', 'F1-Score', f1])\n",
    "clf_scores.append(['LR', 'Specificity', specificity_score])\n",
    "clf_scores.append(['LR', 'Sensitivity', sensitivity_score])\n",
    "print(clf_scores)"
   ]
  },
  {
   "cell_type": "markdown",
   "id": "d7a18c9f",
   "metadata": {},
   "source": [
    "### Support Vector Machine"
   ]
  },
  {
   "cell_type": "code",
   "execution_count": 34,
   "id": "cebe50a3",
   "metadata": {},
   "outputs": [],
   "source": [
    "from sklearn import svm\n",
    "\n",
    "sv_clf = svm.SVC(kernel='linear', C=1, random_state=1)"
   ]
  },
  {
   "cell_type": "code",
   "execution_count": 141,
   "id": "685a397f",
   "metadata": {},
   "outputs": [
    {
     "name": "stdout",
     "output_type": "stream",
     "text": [
      "[['DT', 81.0, 80.22, 80.88, 81.63, 81.78, 80.89], ['RF', 86.67, 84.44, 88.53, 86.25, 88.89, 84.44], ['KNN', 83.44, 76.0, 89.47, 82.07, 90.89, 76.0], ['LR', 86.56, 83.33, 89.14, 86.02, 89.78, 83.33], ['SVM', 85.67, 86.22, 85.42, 85.63, 85.11, 86.22]]\n"
     ]
    }
   ],
   "source": [
    "accuracy = get_scores(sv_clf, 'accuracy')\n",
    "recall = get_scores(sv_clf, 'recall')\n",
    "precision = get_scores(sv_clf, 'precision')\n",
    "f1 = get_scores(sv_clf, 'f1')\n",
    "\n",
    "specificity = make_scorer(recall_score, pos_label=0)\n",
    "specificity_score = get_scores(sv_clf, specificity)\n",
    "\n",
    "sensitivity = make_scorer(recall_score, pos_label=1)\n",
    "sensitivity_score = get_scores(sv_clf, sensitivity)\n",
    "\n",
    "clf_scores.append(['SVM', accuracy, recall, precision, f1, specificity_score, sensitivity_score])\n",
    "print(clf_scores)"
   ]
  },
  {
   "cell_type": "markdown",
   "id": "13f2a35f",
   "metadata": {},
   "source": [
    "## Visualization"
   ]
  },
  {
   "cell_type": "code",
   "execution_count": 144,
   "id": "e0566699",
   "metadata": {},
   "outputs": [],
   "source": [
    "import seaborn as sns\n",
    "import matplotlib.pyplot as plt"
   ]
  },
  {
   "cell_type": "code",
   "execution_count": 170,
   "id": "20552c1e",
   "metadata": {},
   "outputs": [
    {
     "data": {
      "text/html": [
       "<div>\n",
       "<style scoped>\n",
       "    .dataframe tbody tr th:only-of-type {\n",
       "        vertical-align: middle;\n",
       "    }\n",
       "\n",
       "    .dataframe tbody tr th {\n",
       "        vertical-align: top;\n",
       "    }\n",
       "\n",
       "    .dataframe thead th {\n",
       "        text-align: right;\n",
       "    }\n",
       "</style>\n",
       "<table border=\"1\" class=\"dataframe\">\n",
       "  <thead>\n",
       "    <tr style=\"text-align: right;\">\n",
       "      <th></th>\n",
       "      <th>Classifier</th>\n",
       "      <th>Performance Measure</th>\n",
       "      <th>Score</th>\n",
       "    </tr>\n",
       "  </thead>\n",
       "  <tbody>\n",
       "    <tr>\n",
       "      <th>0</th>\n",
       "      <td>DT</td>\n",
       "      <td>Accuracy</td>\n",
       "      <td>81.78</td>\n",
       "    </tr>\n",
       "    <tr>\n",
       "      <th>1</th>\n",
       "      <td>DT</td>\n",
       "      <td>Recall</td>\n",
       "      <td>81.11</td>\n",
       "    </tr>\n",
       "    <tr>\n",
       "      <th>2</th>\n",
       "      <td>DT</td>\n",
       "      <td>Precision</td>\n",
       "      <td>82.96</td>\n",
       "    </tr>\n",
       "    <tr>\n",
       "      <th>3</th>\n",
       "      <td>DT</td>\n",
       "      <td>F1-Score</td>\n",
       "      <td>81.39</td>\n",
       "    </tr>\n",
       "    <tr>\n",
       "      <th>4</th>\n",
       "      <td>DT</td>\n",
       "      <td>Specificity</td>\n",
       "      <td>81.56</td>\n",
       "    </tr>\n",
       "    <tr>\n",
       "      <th>5</th>\n",
       "      <td>DT</td>\n",
       "      <td>Sensitivity</td>\n",
       "      <td>79.11</td>\n",
       "    </tr>\n",
       "    <tr>\n",
       "      <th>6</th>\n",
       "      <td>RF</td>\n",
       "      <td>Accuracy</td>\n",
       "      <td>86.67</td>\n",
       "    </tr>\n",
       "    <tr>\n",
       "      <th>7</th>\n",
       "      <td>RF</td>\n",
       "      <td>Recall</td>\n",
       "      <td>84.44</td>\n",
       "    </tr>\n",
       "    <tr>\n",
       "      <th>8</th>\n",
       "      <td>RF</td>\n",
       "      <td>Precision</td>\n",
       "      <td>88.53</td>\n",
       "    </tr>\n",
       "    <tr>\n",
       "      <th>9</th>\n",
       "      <td>RF</td>\n",
       "      <td>F1-Score</td>\n",
       "      <td>86.25</td>\n",
       "    </tr>\n",
       "    <tr>\n",
       "      <th>10</th>\n",
       "      <td>RF</td>\n",
       "      <td>Specificity</td>\n",
       "      <td>88.89</td>\n",
       "    </tr>\n",
       "    <tr>\n",
       "      <th>11</th>\n",
       "      <td>RF</td>\n",
       "      <td>Sensitivity</td>\n",
       "      <td>84.44</td>\n",
       "    </tr>\n",
       "    <tr>\n",
       "      <th>12</th>\n",
       "      <td>KNN</td>\n",
       "      <td>Accuracy</td>\n",
       "      <td>83.44</td>\n",
       "    </tr>\n",
       "    <tr>\n",
       "      <th>13</th>\n",
       "      <td>KNN</td>\n",
       "      <td>Recall</td>\n",
       "      <td>76.00</td>\n",
       "    </tr>\n",
       "    <tr>\n",
       "      <th>14</th>\n",
       "      <td>KNN</td>\n",
       "      <td>Precision</td>\n",
       "      <td>89.47</td>\n",
       "    </tr>\n",
       "    <tr>\n",
       "      <th>15</th>\n",
       "      <td>KNN</td>\n",
       "      <td>F1-Score</td>\n",
       "      <td>82.07</td>\n",
       "    </tr>\n",
       "    <tr>\n",
       "      <th>16</th>\n",
       "      <td>KNN</td>\n",
       "      <td>Specificity</td>\n",
       "      <td>90.89</td>\n",
       "    </tr>\n",
       "    <tr>\n",
       "      <th>17</th>\n",
       "      <td>KNN</td>\n",
       "      <td>Sensitivity</td>\n",
       "      <td>76.00</td>\n",
       "    </tr>\n",
       "    <tr>\n",
       "      <th>18</th>\n",
       "      <td>LR</td>\n",
       "      <td>Accuracy</td>\n",
       "      <td>86.56</td>\n",
       "    </tr>\n",
       "    <tr>\n",
       "      <th>19</th>\n",
       "      <td>LR</td>\n",
       "      <td>Recall</td>\n",
       "      <td>83.33</td>\n",
       "    </tr>\n",
       "    <tr>\n",
       "      <th>20</th>\n",
       "      <td>LR</td>\n",
       "      <td>Precision</td>\n",
       "      <td>89.14</td>\n",
       "    </tr>\n",
       "    <tr>\n",
       "      <th>21</th>\n",
       "      <td>LR</td>\n",
       "      <td>F1-Score</td>\n",
       "      <td>86.02</td>\n",
       "    </tr>\n",
       "    <tr>\n",
       "      <th>22</th>\n",
       "      <td>LR</td>\n",
       "      <td>Specificity</td>\n",
       "      <td>89.78</td>\n",
       "    </tr>\n",
       "    <tr>\n",
       "      <th>23</th>\n",
       "      <td>LR</td>\n",
       "      <td>Sensitivity</td>\n",
       "      <td>83.33</td>\n",
       "    </tr>\n",
       "  </tbody>\n",
       "</table>\n",
       "</div>"
      ],
      "text/plain": [
       "   Classifier Performance Measure  Score\n",
       "0          DT            Accuracy  81.78\n",
       "1          DT              Recall  81.11\n",
       "2          DT           Precision  82.96\n",
       "3          DT            F1-Score  81.39\n",
       "4          DT         Specificity  81.56\n",
       "5          DT         Sensitivity  79.11\n",
       "6          RF            Accuracy  86.67\n",
       "7          RF              Recall  84.44\n",
       "8          RF           Precision  88.53\n",
       "9          RF            F1-Score  86.25\n",
       "10         RF         Specificity  88.89\n",
       "11         RF         Sensitivity  84.44\n",
       "12        KNN            Accuracy  83.44\n",
       "13        KNN              Recall  76.00\n",
       "14        KNN           Precision  89.47\n",
       "15        KNN            F1-Score  82.07\n",
       "16        KNN         Specificity  90.89\n",
       "17        KNN         Sensitivity  76.00\n",
       "18         LR            Accuracy  86.56\n",
       "19         LR              Recall  83.33\n",
       "20         LR           Precision  89.14\n",
       "21         LR            F1-Score  86.02\n",
       "22         LR         Specificity  89.78\n",
       "23         LR         Sensitivity  83.33"
      ]
     },
     "execution_count": 170,
     "metadata": {},
     "output_type": "execute_result"
    }
   ],
   "source": [
    "viz_df = pd.DataFrame(clf_scores, columns=['Classifier','Performance Measure','Score'])\n",
    "\n",
    "viz_df"
   ]
  },
  {
   "cell_type": "code",
   "execution_count": 171,
   "id": "e830fa9e",
   "metadata": {},
   "outputs": [
    {
     "data": {
      "text/plain": [
       "<AxesSubplot: xlabel='Performance Measure', ylabel='Score'>"
      ]
     },
     "execution_count": 171,
     "metadata": {},
     "output_type": "execute_result"
    },
    {
     "data": {
      "image/png": "[encoded data removed]",
      "text/plain": [
       "<Figure size 640x480 with 1 Axes>"
      ]
     },
     "metadata": {},
     "output_type": "display_data"
    }
   ],
   "source": [
    "sns.barplot(x = 'Performance Measure', y = 'Score',\n",
    "            hue = 'Classifier',\n",
    "            data = viz_df,\n",
    "            estimator = np.median,\n",
    "            errorbar=('ci', 0))"
   ]
  },
  {
   "cell_type": "code",
   "execution_count": null,
   "id": "5e1518fc",
   "metadata": {},
   "outputs": [],
   "source": []
  }
 ],
 "metadata": {
  "kernelspec": {
   "display_name": "Python 3 (ipykernel)",
   "language": "python",
   "name": "python3"
  },
  "language_info": {
   "codemirror_mode": {
    "name": "ipython",
    "version": 3
   },
   "file_extension": ".py",
   "mimetype": "text/x-python",
   "name": "python",
   "nbconvert_exporter": "python",
   "pygments_lexer": "ipython3",
   "version": "3.10.7"
  }
 },
 "nbformat": 4,
 "nbformat_minor": 5
}
